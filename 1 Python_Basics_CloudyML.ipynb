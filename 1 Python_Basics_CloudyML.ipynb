{
 "cells": [
  {
   "attachments": {},
   "cell_type": "markdown",
   "metadata": {
    "id": "X01f_sPwOnmX"
   },
   "source": [
    "<center><h1> Python Basics</h1></center>\n"
   ]
  },
  {
   "attachments": {},
   "cell_type": "markdown",
   "metadata": {
    "id": "rw6fWHMFOnmj"
   },
   "source": [
    "Python is emerging as the popular language used more in data science applications.\n",
    "\n",
    "Take the case of the tech giant Google that has created the deep learning framework called tensorflow – Python is the primary language used for creating this framework. Its footprint has continued to increase in the environment promoted by Netflix. Production engineers at Facebook and Khan Academy have for long been using it as a prominent language in their environment.\n",
    "\n",
    "Python became the most popular language in the data science world.\n",
    "So what are you waiting for? Lets start learning python basic as your first assignment.\n",
    "\n",
    "\n",
    "## Variable declaration"
   ]
  },
  {
   "attachments": {},
   "cell_type": "markdown",
   "metadata": {
    "id": "OPcPovjL8KeQ"
   },
   "source": [
    "### **`GO THROUGH THIS LINK`** : https://www.w3schools.com/python/python_variables.asp"
   ]
  },
  {
   "attachments": {},
   "cell_type": "markdown",
   "metadata": {
    "id": "_B2hCySwOnmm"
   },
   "source": [
    "Covers the topic of variable declaration and type of variables\n",
    "\n",
    "<p style='text-align: right;'> 1+1+1+1+1 = 5 points</p>\n"
   ]
  },
  {
   "cell_type": "code",
   "execution_count": 1,
   "metadata": {
    "id": "XgolDndUOnmn"
   },
   "outputs": [],
   "source": [
    "# declare two variables, a = 5, b = 'city'\n",
    "a = 5\n",
    "b = \"city\""
   ]
  },
  {
   "cell_type": "code",
   "execution_count": 2,
   "metadata": {
    "colab": {
     "base_uri": "https://localhost:8080/"
    },
    "id": "0UNQOo-QOnmo",
    "outputId": "7f46fd0c-652e-4071-e349-308268524be9"
   },
   "outputs": [
    {
     "name": "stdout",
     "output_type": "stream",
     "text": [
      "<class 'int'>\n"
     ]
    }
   ],
   "source": [
    "# print type of a\n",
    "print(type(a))"
   ]
  },
  {
   "cell_type": "code",
   "execution_count": 3,
   "metadata": {
    "colab": {
     "base_uri": "https://localhost:8080/"
    },
    "id": "HvaV3dnoOnms",
    "outputId": "63c125b0-35fb-4a34-8548-dd5f4ff78b10"
   },
   "outputs": [
    {
     "name": "stdout",
     "output_type": "stream",
     "text": [
      "<class 'str'>\n"
     ]
    }
   ],
   "source": [
    "# print type of b\n",
    "print(type(b))"
   ]
  },
  {
   "cell_type": "code",
   "execution_count": 4,
   "metadata": {
    "id": "8fnWzilIOnmu"
   },
   "outputs": [],
   "source": [
    "# swap the values of a and b\n",
    "# hint, if a = 3 and b = \"cloudyML\" then u can swap values like this\n",
    "\"\"\"\n",
    "a = 3\n",
    "b = \"cloudyML\"\n",
    "temp = a # defined a temporary variable and store value of a in temp\n",
    "a = b # swap\n",
    "b = temp # give value of a stored in temp to b\n",
    "\"\"\"\n",
    "a=5\n",
    "b= \"city\"\n",
    "temp =a\n",
    "a=b\n",
    "b=temp"
   ]
  },
  {
   "cell_type": "code",
   "execution_count": 5,
   "metadata": {
    "colab": {
     "base_uri": "https://localhost:8080/"
    },
    "id": "SWd_9g8YOnmv",
    "outputId": "40fa8635-1619-4101-a2af-5b3e4a0f854f"
   },
   "outputs": [
    {
     "name": "stdout",
     "output_type": "stream",
     "text": [
      "city\n",
      "5\n"
     ]
    }
   ],
   "source": [
    "# run this to confirm \n",
    "print(a)\n",
    "print(b)"
   ]
  },
  {
   "attachments": {},
   "cell_type": "markdown",
   "metadata": {
    "id": "jZxcxXV2Onmx"
   },
   "source": [
    "Cool! so variable declaration and getting it's type was easy."
   ]
  },
  {
   "attachments": {},
   "cell_type": "markdown",
   "metadata": {
    "id": "pDfT0V3IOnmx"
   },
   "source": [
    "## Arithmetic Operations"
   ]
  },
  {
   "attachments": {},
   "cell_type": "markdown",
   "metadata": {
    "id": "mbYDyu8_8ZFj"
   },
   "source": [
    "### **`GO THROUGH THIS LINK`** : https://www.geeksforgeeks.org/python-arithmetic-operators/"
   ]
  },
  {
   "attachments": {},
   "cell_type": "markdown",
   "metadata": {
    "id": "s7I8ndJiOnmy"
   },
   "source": [
    "Hey novice! this will be easy for you until you know basic arithmetic symbols like +, -, /, * etc.\n",
    "\n",
    "\n",
    "<p style='text-align: right;'> 1 + 7 = 8 points </p>\n"
   ]
  },
  {
   "cell_type": "code",
   "execution_count": 6,
   "metadata": {
    "colab": {
     "base_uri": "https://localhost:8080/"
    },
    "id": "GrGEajK2Onmz",
    "outputId": "e1cfe06c-730d-481c-d6a8-3a49e9ef03da"
   },
   "outputs": [
    {
     "name": "stdout",
     "output_type": "stream",
     "text": [
      "a = 24, b = 3\n"
     ]
    }
   ],
   "source": [
    "# declare two variables, a = 24, b = 3\n",
    "\n",
    "a = 24\n",
    "b = 3\n",
    "print('a = {}, b = {}'.format(a,b))"
   ]
  },
  {
   "cell_type": "code",
   "execution_count": 7,
   "metadata": {
    "colab": {
     "base_uri": "https://localhost:8080/"
    },
    "id": "diniCQx5Onm0",
    "outputId": "1500287b-7a45-438b-8168-74d26870f21d"
   },
   "outputs": [
    {
     "name": "stdout",
     "output_type": "stream",
     "text": [
      "27\n"
     ]
    }
   ],
   "source": [
    "print(a+b)"
   ]
  },
  {
   "cell_type": "code",
   "execution_count": 8,
   "metadata": {
    "colab": {
     "base_uri": "https://localhost:8080/"
    },
    "id": "N_GYfccYOnm0",
    "outputId": "369cb090-8f5e-4fce-a632-0728660cc076"
   },
   "outputs": [
    {
     "name": "stdout",
     "output_type": "stream",
     "text": [
      "a + b = 27\n",
      "a - b = 21\n",
      "a * b = 72\n",
      "a / b = 8.0\n",
      "a % b = 0\n",
      "a // b = 8\n",
      "a ^ b = 27\n"
     ]
    }
   ],
   "source": [
    "# calculate and print all the possible numerical operations on a and b (There are total 7 operations)\n",
    "# You can use string formatting to get the exact output like ours.\n",
    "# hint: print(\"a + b = {}\".format(a+b))\n",
    "a = 24\n",
    "b= 3\n",
    "print(\"a + b = {}\".format(a+b))\n",
    "print(\"a - b = {}\".format(a-b))\n",
    "print(\"a * b = {}\".format(a*b))\n",
    "print(\"a / b = {}\".format(a/b))\n",
    "print(\"a % b = {}\".format(a%b))\n",
    "print(\"a // b = {}\".format(a//b))\n",
    "print(\"a ^ b = {}\".format(a^b))"
   ]
  },
  {
   "attachments": {},
   "cell_type": "markdown",
   "metadata": {
    "id": "SnON_Kw9Onm1"
   },
   "source": [
    "## Math Functions"
   ]
  },
  {
   "attachments": {},
   "cell_type": "markdown",
   "metadata": {
    "id": "1hTzZGrsOnm2"
   },
   "source": [
    "Lets do some simple mathematical operations by using math module. Math module contains various mathematical functions. So here we go!\n",
    "\n",
    "Additional Reference:- https://youtu.be/gktjNyV0xks\n",
    "\n",
    "Reference document: https://docs.python.org/3/library/math.html\n",
    "<p style='text-align: right;'> 10 points </p>\n",
    "\n",
    "\n"
   ]
  },
  {
   "cell_type": "code",
   "execution_count": 9,
   "metadata": {
    "id": "Y3odgoqgOnm2"
   },
   "outputs": [],
   "source": [
    "import math"
   ]
  },
  {
   "cell_type": "code",
   "execution_count": 10,
   "metadata": {
    "id": "vVALGHwCOnm3"
   },
   "outputs": [],
   "source": [
    "# declare a variable x = 2 and y=5.32167\n",
    "x=2\n",
    "y=5.32167"
   ]
  },
  {
   "cell_type": "code",
   "execution_count": 11,
   "metadata": {
    "colab": {
     "base_uri": "https://localhost:8080/"
    },
    "id": "h9xFqnF7Onm3",
    "outputId": "3cfa7c1c-e47e-4b4f-92b8-d604b0e7ca0b"
   },
   "outputs": [
    {
     "name": "stdout",
     "output_type": "stream",
     "text": [
      "5.32167\n"
     ]
    }
   ],
   "source": [
    "# Print the maximum value between x and y\n",
    "print(max(x,y))"
   ]
  },
  {
   "cell_type": "code",
   "execution_count": 12,
   "metadata": {
    "colab": {
     "base_uri": "https://localhost:8080/"
    },
    "id": "Ek-Wrhb6Onm3",
    "outputId": "d990846a-df27-4078-8bee-271286294b76"
   },
   "outputs": [
    {
     "name": "stdout",
     "output_type": "stream",
     "text": [
      "2\n"
     ]
    }
   ],
   "source": [
    "# Print the minimum value between x and y\n",
    "print(min(x,y))"
   ]
  },
  {
   "cell_type": "code",
   "execution_count": 13,
   "metadata": {
    "colab": {
     "base_uri": "https://localhost:8080/"
    },
    "id": "NHK3kCGAOnm4",
    "outputId": "abde16f9-2ff6-4142-fb24-58bf9671419e"
   },
   "outputs": [
    {
     "name": "stdout",
     "output_type": "stream",
     "text": [
      "4\n",
      "8.0\n"
     ]
    }
   ],
   "source": [
    "# Print square and cube of x and store in a and b variable\n",
    "a=x**2\n",
    "print(a)\n",
    "\n",
    "b=math.pow(x,3)\n",
    "print(b)"
   ]
  },
  {
   "cell_type": "code",
   "execution_count": 14,
   "metadata": {
    "colab": {
     "base_uri": "https://localhost:8080/"
    },
    "id": "ARYINv9AOnm4",
    "outputId": "686a724b-c071-4bee-839d-1ec0fa93e8b2"
   },
   "outputs": [
    {
     "data": {
      "text/plain": [
       "0.6931471805599453"
      ]
     },
     "execution_count": 14,
     "metadata": {},
     "output_type": "execute_result"
    }
   ],
   "source": [
    "#print log of x and store it in variable c\n",
    "c=math.log(x)\n",
    "c"
   ]
  },
  {
   "cell_type": "code",
   "execution_count": 15,
   "metadata": {
    "colab": {
     "base_uri": "https://localhost:8080/"
    },
    "id": "xGbjPCVfOnm5",
    "outputId": "52aa32fc-44b6-4b9a-ca0a-4f620594f972"
   },
   "outputs": [
    {
     "name": "stdout",
     "output_type": "stream",
     "text": [
      "0.6931471805599453\n"
     ]
    }
   ],
   "source": [
    "#print minimum value between x,y,a, b and c\n",
    "print(min(x,y,a,b,c))"
   ]
  },
  {
   "cell_type": "code",
   "execution_count": 16,
   "metadata": {
    "colab": {
     "base_uri": "https://localhost:8080/"
    },
    "id": "Cr2aOwOYOnm5",
    "outputId": "de3cc648-eb3c-4593-a2e5-84e9f875507c"
   },
   "outputs": [
    {
     "name": "stdout",
     "output_type": "stream",
     "text": [
      "8.0\n"
     ]
    }
   ],
   "source": [
    "#print maximum value between x,y,a, b and c\n",
    "print(max(x,y,a,b,c))"
   ]
  },
  {
   "cell_type": "code",
   "execution_count": 17,
   "metadata": {
    "colab": {
     "base_uri": "https://localhost:8080/"
    },
    "id": "cdTE9jHJOnm5",
    "outputId": "32bce6d3-5824-4969-c1f4-8308aed5e59b"
   },
   "outputs": [
    {
     "name": "stdout",
     "output_type": "stream",
     "text": [
      "0\n"
     ]
    }
   ],
   "source": [
    "#print the largest integer that is smaller than or equal to c. ie.round down\n",
    "print(math.floor(c))"
   ]
  },
  {
   "cell_type": "code",
   "execution_count": 18,
   "metadata": {
    "colab": {
     "base_uri": "https://localhost:8080/"
    },
    "id": "YuQFq6iTOnm6",
    "outputId": "e852e936-5715-4632-d5b5-7a46a6c6aa17"
   },
   "outputs": [
    {
     "name": "stdout",
     "output_type": "stream",
     "text": [
      "1\n"
     ]
    }
   ],
   "source": [
    "#print the smallest integer that is greater than or equal to c ie. round up\n",
    "print(math.ceil(c))"
   ]
  },
  {
   "attachments": {},
   "cell_type": "markdown",
   "metadata": {
    "id": "7ywGXy77Onm6"
   },
   "source": [
    "## Logical operations\n",
    "\n",
    "You must be aware of some logical operations you did in college, like 'and', 'or', 'not' etc. These operations becomes even more easy to implement when you have friend like python.\n",
    "\n",
    "<p style='text-align: right;'> 1 + 1 + 1 + 6 = 9 points </p>\n"
   ]
  },
  {
   "attachments": {},
   "cell_type": "markdown",
   "metadata": {
    "id": "je-gFF1C8tzY"
   },
   "source": [
    "### **`GO THROUGH THIS LINK`** : https://www.programiz.com/python-programming/operators"
   ]
  },
  {
   "cell_type": "code",
   "execution_count": 19,
   "metadata": {
    "colab": {
     "base_uri": "https://localhost:8080/"
    },
    "id": "qD67cRQJOnm7",
    "outputId": "a9b2728d-fc6b-4c06-e031-a6537b7e3007"
   },
   "outputs": [
    {
     "name": "stdout",
     "output_type": "stream",
     "text": [
      "True\n",
      "False\n"
     ]
    }
   ],
   "source": [
    "# declare two variables, a = True, b = False\n",
    "a = True\n",
    "b = False\n",
    "print(a)\n",
    "print(b)\n"
   ]
  },
  {
   "cell_type": "code",
   "execution_count": 20,
   "metadata": {
    "colab": {
     "base_uri": "https://localhost:8080/"
    },
    "id": "f5Vs8qzjOnm7",
    "outputId": "6bd148d7-2af0-4645-9b4f-94f5dcbc962e"
   },
   "outputs": [
    {
     "name": "stdout",
     "output_type": "stream",
     "text": [
      "<class 'bool'>\n",
      "<class 'bool'>\n"
     ]
    }
   ],
   "source": [
    "# print type of a and type of b\n",
    "print(type(a))\n",
    "print(type(b))"
   ]
  },
  {
   "attachments": {},
   "cell_type": "markdown",
   "metadata": {
    "id": "c3_XIcPkOnm7"
   },
   "source": [
    "A fun fact for you !\n",
    "The Python Boolean type is one of Python's built-in data types. It's used to represent the truth value of an expression"
   ]
  },
  {
   "cell_type": "code",
   "execution_count": 21,
   "metadata": {
    "colab": {
     "base_uri": "https://localhost:8080/"
    },
    "id": "lCruZY6_Onm8",
    "outputId": "dd3a08e3-ac92-4499-e0f5-875c3d9294e9"
   },
   "outputs": [
    {
     "name": "stdout",
     "output_type": "stream",
     "text": [
      "1\n",
      "0\n"
     ]
    }
   ],
   "source": [
    "# print int(a) and int(b)\n",
    "print(int(a))\n",
    "print(int(b))"
   ]
  },
  {
   "attachments": {},
   "cell_type": "markdown",
   "metadata": {
    "id": "y2pKlWHBOnm8"
   },
   "source": [
    "We are sure you must have seen that, values for 'True' is 1 and for 'False' is 0."
   ]
  },
  {
   "cell_type": "code",
   "execution_count": 22,
   "metadata": {
    "colab": {
     "base_uri": "https://localhost:8080/"
    },
    "id": "IEuVTnsAOnm8",
    "outputId": "5d64cdc9-1b50-49b2-beb7-56aad691b0de"
   },
   "outputs": [
    {
     "name": "stdout",
     "output_type": "stream",
     "text": [
      "False\n",
      "True\n",
      "False\n",
      "True\n",
      "True\n"
     ]
    }
   ],
   "source": [
    "# Find and print the values of not a, not b, a and b, a or b, a and not b\n",
    "# Use not operator for not a and not b\n",
    "\n",
    "print(not a)\n",
    "print(not b)\n",
    "print(a and b)\n",
    "print(a or b)\n",
    "print(a and not b)"
   ]
  },
  {
   "attachments": {},
   "cell_type": "markdown",
   "metadata": {
    "id": "TI7-60doOnm9"
   },
   "source": [
    "We hope you tried to undertand the above output! "
   ]
  },
  {
   "attachments": {},
   "cell_type": "markdown",
   "metadata": {
    "id": "Ngtt9xc6Onm9"
   },
   "source": [
    "## List Comprehensions\n",
    "\n",
    "Hey buddy! Python has really amazing thing called list comprehension. List comprehension offers a shorter syntax when you want to create a new list based on the values of an existing list. Cool right? Let's dive into this more by doing it. \n",
    "\n",
    "<p style='text-align: right;'> 10 + 10 + 10= 30 points </p>\n",
    "\n"
   ]
  },
  {
   "attachments": {},
   "cell_type": "markdown",
   "metadata": {
    "id": "GBpFQIZu9JBN"
   },
   "source": [
    "### **`GO THROUGH THIS LINK`** : https://www.geeksforgeeks.org/python-list-comprehension/"
   ]
  },
  {
   "cell_type": "code",
   "execution_count": 23,
   "metadata": {
    "colab": {
     "base_uri": "https://localhost:8080/"
    },
    "id": "EFQZLhkDOnm9",
    "outputId": "2f5169f0-387b-44ee-a8cc-a58078062dd9"
   },
   "outputs": [
    {
     "data": {
      "text/plain": [
       "[1, 2, 3, 4, 5, 6, 7, 8, 9, 10, 11, 12, 13, 14, 15, 16, 17, 18, 19, 20]"
      ]
     },
     "execution_count": 23,
     "metadata": {},
     "output_type": "execute_result"
    }
   ],
   "source": [
    "# Using list comprehension, create a list containing numbers from 1 to 20. \n",
    "# Hint: You can use range function of python to do this.\n",
    "\n",
    "list1 = [i for i in range(1,21)]\n",
    "list1"
   ]
  },
  {
   "cell_type": "code",
   "execution_count": 24,
   "metadata": {
    "colab": {
     "base_uri": "https://localhost:8080/"
    },
    "id": "3fZ8aOSyOnm9",
    "outputId": "a82613e0-1ef0-4dc7-adef-45e25e7a747b"
   },
   "outputs": [
    {
     "data": {
      "text/plain": [
       "[2, 4, 6, 8, 10, 12, 14, 16, 18, 20]"
      ]
     },
     "execution_count": 24,
     "metadata": {},
     "output_type": "execute_result"
    }
   ],
   "source": [
    "# Using list comprehension, create a list containing numbers from 1 to 20 that are even\n",
    "\n",
    "list2 = [i for i in range(1,21) if i%2==0]\n",
    "list2"
   ]
  },
  {
   "attachments": {},
   "cell_type": "markdown",
   "metadata": {
    "id": "Nom_UZdsOnm-"
   },
   "source": [
    "Create a list of all the fruits you like. Using list comprehension, create another list which contains the total number of charachters for each corresponding fruits.\n",
    "- Eg. fruits = [‘apple’,’kiwi’,’orange’], then output would be - [5,4,6]\n"
   ]
  },
  {
   "cell_type": "code",
   "execution_count": 25,
   "metadata": {
    "colab": {
     "base_uri": "https://localhost:8080/"
    },
    "id": "qgTZeieSOnm-",
    "outputId": "dab7c09a-7bdd-4949-8ee8-f11ff3de3d3b"
   },
   "outputs": [
    {
     "name": "stdout",
     "output_type": "stream",
     "text": [
      "['mango', 'apple', 'banana', 'vimal', 'orange']\n",
      "[5, 5, 6, 5, 6]\n"
     ]
    }
   ],
   "source": [
    "fruits = ['mango', 'apple', 'banana', 'vimal', 'orange']\n",
    "len_fruits = [len(i) for i in fruits]\n",
    "\n",
    "print(fruits)\n",
    "print(len_fruits)\n"
   ]
  },
  {
   "attachments": {},
   "cell_type": "markdown",
   "metadata": {
    "id": "EmUChdf-Onm-"
   },
   "source": [
    "The above output is shown if fruits = ['apple','kiwi,'orange'], it can vary for different values of fruits\n",
    "\n",
    "Amazing right?\n"
   ]
  },
  {
   "attachments": {},
   "cell_type": "markdown",
   "metadata": {
    "id": "wPzfKH4vOnm_"
   },
   "source": [
    "## String value and operators\n",
    "\n",
    "<p style='text-align: right;'> 1 + 1 + 1 + 1 + 1 = 5 points </p>\n"
   ]
  },
  {
   "attachments": {},
   "cell_type": "markdown",
   "metadata": {
    "id": "Ee_vso2gOnm_"
   },
   "source": [
    "### Characters in strings\n",
    "\n",
    "\n",
    "Reference:- https://www.programiz.com/python-programming/string\n",
    "\n"
   ]
  },
  {
   "attachments": {},
   "cell_type": "markdown",
   "metadata": {
    "id": "neeMtGmN-TOV"
   },
   "source": [
    "### **`MUST GO THROUGH THIS LINK`**: https://www.geeksforgeeks.org/python-strings/"
   ]
  },
  {
   "cell_type": "code",
   "execution_count": 26,
   "metadata": {
    "colab": {
     "base_uri": "https://localhost:8080/"
    },
    "id": "3SeJY_uNOnm_",
    "outputId": "1f8d2238-d57c-401c-94c6-a0c19c86549a"
   },
   "outputs": [
    {
     "name": "stdout",
     "output_type": "stream",
     "text": [
      "cat\n",
      "dog\n"
     ]
    }
   ],
   "source": [
    "# declare the variables x = cat and y = dog and print it\n",
    "x =  \"cat\"\n",
    "y = \"dog\"\n",
    "\n",
    "print(x)\n",
    "print(y)"
   ]
  },
  {
   "cell_type": "code",
   "execution_count": 27,
   "metadata": {
    "colab": {
     "base_uri": "https://localhost:8080/"
    },
    "id": "J6WM2PYhOnm_",
    "outputId": "514c8a28-4476-467f-d520-077f0aa8ad99"
   },
   "outputs": [
    {
     "name": "stdout",
     "output_type": "stream",
     "text": [
      "c\n",
      "d\n"
     ]
    }
   ],
   "source": [
    "#Print first character of both x and y. \n",
    "\n",
    "print(x[0])\n",
    "print(y[0])"
   ]
  },
  {
   "cell_type": "code",
   "execution_count": 28,
   "metadata": {
    "colab": {
     "base_uri": "https://localhost:8080/"
    },
    "id": "T4cyd2QJOnnA",
    "outputId": "12d6e971-5f16-4874-b7a7-b23cf7c82bb1"
   },
   "outputs": [
    {
     "name": "stdout",
     "output_type": "stream",
     "text": [
      "t\n",
      "g\n"
     ]
    }
   ],
   "source": [
    "#Print last character of both x and y.\n",
    "print(x[-1])\n",
    "print(y[-1])\n"
   ]
  },
  {
   "cell_type": "code",
   "execution_count": 29,
   "metadata": {
    "colab": {
     "base_uri": "https://localhost:8080/"
    },
    "id": "jWHyH2o7OnnA",
    "outputId": "1db5da7b-73c6-4836-94db-455a8c69430e"
   },
   "outputs": [
    {
     "name": "stdout",
     "output_type": "stream",
     "text": [
      "3\n",
      "3\n"
     ]
    }
   ],
   "source": [
    "#Print len of both x and y\n",
    "print(len(x))\n",
    "print(len(y))"
   ]
  },
  {
   "cell_type": "code",
   "execution_count": 30,
   "metadata": {
    "colab": {
     "base_uri": "https://localhost:8080/"
    },
    "id": "wcu4u4ZdOnnA",
    "outputId": "93d5653f-3c36-4016-ac0c-3f904043ac16"
   },
   "outputs": [
    {
     "data": {
      "text/plain": [
       "'catdog'"
      ]
     },
     "execution_count": 30,
     "metadata": {},
     "output_type": "execute_result"
    }
   ],
   "source": [
    "#concatenate both x and y and store it in variable z and print z\n",
    "z = x+y\n",
    "z"
   ]
  },
  {
   "cell_type": "code",
   "execution_count": 31,
   "metadata": {
    "colab": {
     "base_uri": "https://localhost:8080/"
    },
    "id": "gfbQ0ahAOnnA",
    "outputId": "f96fc941-8835-4fec-853d-a96967136728"
   },
   "outputs": [
    {
     "data": {
      "text/plain": [
       "True"
      ]
     },
     "execution_count": 31,
     "metadata": {},
     "output_type": "execute_result"
    }
   ],
   "source": [
    "#check if x is part of z \n",
    "x in z"
   ]
  },
  {
   "attachments": {},
   "cell_type": "markdown",
   "metadata": {
    "id": "lVchUi7YOnnB"
   },
   "source": [
    "### String slicing\n",
    "\n",
    "\n",
    "\n",
    "Hey coder, do you know? Python slicing is about obtaining a sub-string from the given string by slicing it respectively from start to end\n",
    "\n",
    "So be ready to implement it today!\n",
    "<p style='text-align: right;'> 2 points </p>"
   ]
  },
  {
   "cell_type": "code",
   "execution_count": 32,
   "metadata": {
    "colab": {
     "base_uri": "https://localhost:8080/"
    },
    "id": "VPiDEDDTOnnB",
    "outputId": "0c3d5fa2-8c5e-4f64-d7e9-45eb819e8081"
   },
   "outputs": [
    {
     "name": "stdout",
     "output_type": "stream",
     "text": [
      "pineapple\n"
     ]
    }
   ],
   "source": [
    "#Create variable a = “pineapple”\n",
    "a = \"pineapple\"\n",
    "print(a)"
   ]
  },
  {
   "cell_type": "code",
   "execution_count": 33,
   "metadata": {
    "colab": {
     "base_uri": "https://localhost:8080/"
    },
    "id": "eCNFSjIROnnB",
    "outputId": "d96f36b6-bd60-4d6c-9740-9847b98e6c57"
   },
   "outputs": [
    {
     "name": "stdout",
     "output_type": "stream",
     "text": [
      "pine\n",
      "apple\n"
     ]
    }
   ],
   "source": [
    "# Using index slicing, print the words ‘pine’ and “apple”.\n",
    "# HINT - a[:]\n",
    "print(a[0:4])\n",
    "print(a[4:9])"
   ]
  },
  {
   "cell_type": "code",
   "execution_count": 34,
   "metadata": {
    "colab": {
     "base_uri": "https://localhost:8080/",
     "height": 38
    },
    "id": "Z6881zT0OnnB",
    "outputId": "208250a0-1b76-40d7-8bb4-bec4e0e377bb"
   },
   "outputs": [
    {
     "data": {
      "text/plain": [
       "'PINEAPPLE'"
      ]
     },
     "execution_count": 34,
     "metadata": {},
     "output_type": "execute_result"
    }
   ],
   "source": [
    "#Convert a into upper case\n",
    "a.upper()"
   ]
  },
  {
   "attachments": {},
   "cell_type": "markdown",
   "metadata": {
    "id": "mEw9dmM2OnnC"
   },
   "source": [
    "## Dealing with Sentences\n",
    "\n",
    "<p style='text-align: right;'> 1+1+1+1+1+1 = 6 points </p>\n"
   ]
  },
  {
   "cell_type": "code",
   "execution_count": 35,
   "metadata": {
    "colab": {
     "base_uri": "https://localhost:8080/"
    },
    "id": "O-eulzDKOnnC",
    "outputId": "66eb5489-a993-43d9-d5f7-0a2bba537f82"
   },
   "outputs": [
    {
     "data": {
      "text/plain": [
       "'I am flying to London'"
      ]
     },
     "execution_count": 35,
     "metadata": {},
     "output_type": "execute_result"
    }
   ],
   "source": [
    "# Declare a sentence of ‘I am flying to London’ and print it\n",
    "\n",
    "x =\"I am flying to London\"\n",
    "x"
   ]
  },
  {
   "cell_type": "code",
   "execution_count": 36,
   "metadata": {
    "colab": {
     "base_uri": "https://localhost:8080/"
    },
    "id": "6YqhY71aOnnC",
    "outputId": "6de6d53f-a6c3-4038-d9be-60cf3907f372"
   },
   "outputs": [
    {
     "name": "stdout",
     "output_type": "stream",
     "text": [
      "Len of a sentance is  21\n"
     ]
    }
   ],
   "source": [
    "#Print length of the sentence\n",
    "print(\"Len of a sentance is \" , len(x))"
   ]
  },
  {
   "cell_type": "code",
   "execution_count": 37,
   "metadata": {
    "colab": {
     "base_uri": "https://localhost:8080/",
     "height": 38
    },
    "id": "ueh0avBIOnnC",
    "outputId": "e5eb183b-67bb-4836-9e6e-4be23aa9e376"
   },
   "outputs": [
    {
     "data": {
      "text/plain": [
       "'London'"
      ]
     },
     "execution_count": 37,
     "metadata": {},
     "output_type": "execute_result"
    }
   ],
   "source": [
    "#Using list indexing, to print the word London\n",
    "x[15:22]"
   ]
  },
  {
   "cell_type": "code",
   "execution_count": 38,
   "metadata": {
    "colab": {
     "base_uri": "https://localhost:8080/"
    },
    "id": "XxWpC9-pOnnC",
    "outputId": "6e4a9f0e-4256-487b-ff53-55d42cf83833"
   },
   "outputs": [
    {
     "data": {
      "text/plain": [
       "['I', 'am', 'flying', 'to', 'London']"
      ]
     },
     "execution_count": 38,
     "metadata": {},
     "output_type": "execute_result"
    }
   ],
   "source": [
    "# Use .split to get list of individual words in the sentence\n",
    "x.split()"
   ]
  },
  {
   "cell_type": "code",
   "execution_count": 39,
   "metadata": {
    "colab": {
     "base_uri": "https://localhost:8080/",
     "height": 38
    },
    "id": "cv-iS9BrOnnD",
    "outputId": "ad6c2830-5520-4bd9-93e5-d9e1b7b64580"
   },
   "outputs": [
    {
     "data": {
      "text/plain": [
       "'i am flying to london'"
      ]
     },
     "execution_count": 39,
     "metadata": {},
     "output_type": "execute_result"
    }
   ],
   "source": [
    "# Convert sentence in lower case \n",
    "x.lower()"
   ]
  },
  {
   "cell_type": "code",
   "execution_count": 40,
   "metadata": {
    "colab": {
     "base_uri": "https://localhost:8080/",
     "height": 38
    },
    "id": "Qv4XhFETOnnD",
    "outputId": "f1e36b6f-ae52-41c9-e1e6-5c2f36607e93"
   },
   "outputs": [
    {
     "data": {
      "text/plain": [
       "'I AM FLYING TO LONDON'"
      ]
     },
     "execution_count": 40,
     "metadata": {},
     "output_type": "execute_result"
    }
   ],
   "source": [
    "# Convert sentence in upper case .\n",
    "x.upper()"
   ]
  },
  {
   "attachments": {},
   "cell_type": "markdown",
   "metadata": {
    "id": "Wz53Tr8YOnnD"
   },
   "source": [
    "Great job! Slicing is fun."
   ]
  },
  {
   "attachments": {},
   "cell_type": "markdown",
   "metadata": {
    "id": "EpMEG_R3OnnE"
   },
   "source": [
    "## Functions\n",
    "\n",
    "Declare a function named square, which takes an input as x, and returns the square of x.\n",
    "\n",
    "<p style='text-align: right;'> 5 + 3 = 8 points </p>\n"
   ]
  },
  {
   "attachments": {},
   "cell_type": "markdown",
   "metadata": {
    "id": "Cc4i_4Ka_ZVR"
   },
   "source": [
    "### **`MUST GO THROUGH THIS LINK`**: https://www.geeksforgeeks.org/python-functions/"
   ]
  },
  {
   "attachments": {},
   "cell_type": "markdown",
   "metadata": {
    "id": "KX4y0IHVOnnE"
   },
   "source": [
    "Call the function to find the value of square of 9."
   ]
  },
  {
   "cell_type": "code",
   "execution_count": 41,
   "metadata": {
    "colab": {
     "base_uri": "https://localhost:8080/"
    },
    "id": "ms2A-A15OnnE",
    "outputId": "9ac75f3d-1267-40da-bf6b-067a7e5c8008"
   },
   "outputs": [
    {
     "name": "stdout",
     "output_type": "stream",
     "text": [
      "Square of  9 is 81\n"
     ]
    }
   ],
   "source": [
    "# find the square of 9 using the function square you have just created.\n",
    "def square(x):\n",
    "    print(\"Square of \", x ,\"is\",x*x )\n",
    "    \n",
    "square(9)\n",
    "\n",
    "    # find the square of 9 using the function square you have just created."
   ]
  },
  {
   "attachments": {},
   "cell_type": "markdown",
   "metadata": {
    "id": "ehBLnbH-OnnE"
   },
   "source": [
    "Wohoo! see, defining function was simple"
   ]
  },
  {
   "attachments": {},
   "cell_type": "markdown",
   "metadata": {
    "id": "h01u89J0OnnF"
   },
   "source": [
    "#### Define another function which checks whether a given is number is odd or even for a given input and it should print whether the  number is odd or even as an output\n",
    "<p style='text-align: right;'> 5 + 3 = 8 points </p>\n"
   ]
  },
  {
   "cell_type": "code",
   "execution_count": 42,
   "metadata": {
    "colab": {
     "base_uri": "https://localhost:8080/"
    },
    "id": "MNVuqrmgOnnF",
    "outputId": "55b6972e-2d94-4915-99d4-75072ebcb7c6"
   },
   "outputs": [
    {
     "name": "stdout",
     "output_type": "stream",
     "text": [
      "11 is odd\n"
     ]
    }
   ],
   "source": [
    "def find_EvenOdd(num):\n",
    "    if(num%2==0):\n",
    "        print(num,\"is even\")\n",
    "    else:\n",
    "        print(num,\"is odd\")\n",
    "find_EvenOdd(11)"
   ]
  },
  {
   "attachments": {},
   "cell_type": "markdown",
   "metadata": {
    "id": "PH7VEP8eOnnF"
   },
   "source": [
    "Hey smarty! lets use both the functions together to check whether the square of 3,6 and 21 are odd or even.\n"
   ]
  },
  {
   "cell_type": "code",
   "execution_count": 43,
   "metadata": {
    "colab": {
     "base_uri": "https://localhost:8080/"
    },
    "id": "lhFMpKfHOnnF",
    "outputId": "6fc2329e-7202-4325-c9a3-0048bd047532"
   },
   "outputs": [
    {
     "name": "stdout",
     "output_type": "stream",
     "text": [
      "9 is odd\n",
      "36 is even\n",
      "441 is odd\n"
     ]
    }
   ],
   "source": [
    "def checkSquare_EvenOdd(x):\n",
    "    if(x*x%2==0):\n",
    "        print(x,\"is even\")\n",
    "    else:\n",
    "        print(x,\"is odd\")\n",
    "        \n",
    "checkSquare_EvenOdd(9)\n",
    "checkSquare_EvenOdd(36)\n",
    "checkSquare_EvenOdd(441)\n"
   ]
  },
  {
   "attachments": {},
   "cell_type": "markdown",
   "metadata": {
    "id": "aSnw4vEHOnnF"
   },
   "source": [
    "hey hey! You did a great code. Did you see the benefit of using functions"
   ]
  },
  {
   "attachments": {},
   "cell_type": "markdown",
   "metadata": {
    "id": "7TThdIkzOnnG"
   },
   "source": [
    "# Loops and Iterations"
   ]
  },
  {
   "attachments": {},
   "cell_type": "markdown",
   "metadata": {
    "id": "MyKf8rF1OnnG"
   },
   "source": [
    "## If statement\n",
    "\n",
    "<p style='text-align: right;'> 1 + 2 + 3 = 6 points </p>\n"
   ]
  },
  {
   "cell_type": "code",
   "execution_count": 44,
   "metadata": {
    "colab": {
     "base_uri": "https://localhost:8080/"
    },
    "id": "3srU1iT1OnnG",
    "outputId": "132576fa-a12a-43d3-c28d-ad3b7c7fcdea"
   },
   "outputs": [
    {
     "name": "stdout",
     "output_type": "stream",
     "text": [
      "3\n"
     ]
    }
   ],
   "source": [
    "#Declare a variable x equal to a number of your choice.\n",
    "#your code here\n",
    "x = 3\n",
    "print(x)"
   ]
  },
  {
   "cell_type": "code",
   "execution_count": 45,
   "metadata": {
    "colab": {
     "base_uri": "https://localhost:8080/"
    },
    "id": "qjbO3dNLOnnH",
    "outputId": "3a8a02f3-18cb-4607-9970-094ae1075851"
   },
   "outputs": [
    {
     "name": "stdout",
     "output_type": "stream",
     "text": [
      "24 is positive\n"
     ]
    }
   ],
   "source": [
    "#Using an if statement, print whether x is zero, positive or negative.\n",
    "\n",
    "x= int(input(\"Enter a number: \"))\n",
    "if x==0:\n",
    "    print(x, \"is zero\")\n",
    "if x> 0:\n",
    "    print(x, \"is positive\")\n",
    "else:\n",
    "    print(x, \"is negative\")"
   ]
  },
  {
   "cell_type": "code",
   "execution_count": 46,
   "metadata": {
    "colab": {
     "base_uri": "https://localhost:8080/"
    },
    "id": "Qje0Z0zLOnnH",
    "outputId": "c392c49e-c4b9-4fb1-b54a-8a8ea3f7e9d1"
   },
   "outputs": [
    {
     "name": "stdout",
     "output_type": "stream",
     "text": [
      "10 is positive\n",
      "-2 is negative\n",
      "0 is zero\n"
     ]
    }
   ],
   "source": [
    "# Now Define a function, which takes input from the user and prints whether the given input is zero,positive or negative.\n",
    "def check_num(a):\n",
    "    if a==0:\n",
    "        print(a, \"is zero\")\n",
    "    if a> 0:\n",
    "        print(a, \"is positive\")\n",
    "    if a<0:\n",
    "        print(a, \"is negative\")\n",
    "    \n",
    "a = int(input(\"Enter a number: \"))\n",
    "\n",
    "\n",
    "check_num(10)\n",
    "check_num(-2)\n",
    "check_num(0)"
   ]
  },
  {
   "attachments": {},
   "cell_type": "markdown",
   "metadata": {
    "id": "8QnzejuHOnnH"
   },
   "source": [
    "## For loop"
   ]
  },
  {
   "attachments": {},
   "cell_type": "markdown",
   "metadata": {
    "id": "Nh3IHYqNOnnH"
   },
   "source": [
    "<p style='text-align: right;'> 2 points </p>\n"
   ]
  },
  {
   "cell_type": "code",
   "execution_count": 47,
   "metadata": {
    "colab": {
     "base_uri": "https://localhost:8080/"
    },
    "id": "50nOGOuqOnnI",
    "outputId": "b7e7b9db-08bd-4379-a831-7f63a77a4ae2"
   },
   "outputs": [
    {
     "data": {
      "text/plain": [
       "['India', 'Israel', 'Canada']"
      ]
     },
     "execution_count": 47,
     "metadata": {},
     "output_type": "execute_result"
    }
   ],
   "source": [
    "#Create a list x, such that it contains the elements - ‘India’, ‘Israel’,’Canada’.\n",
    "x = [\"India\", \"Israel\",\"Canada\"]\n",
    "x"
   ]
  },
  {
   "cell_type": "code",
   "execution_count": 48,
   "metadata": {
    "colab": {
     "base_uri": "https://localhost:8080/"
    },
    "id": "VxfS6YKYOnnI",
    "outputId": "1e8438c0-9b08-451c-c5b3-5717741caf9a"
   },
   "outputs": [
    {
     "name": "stdout",
     "output_type": "stream",
     "text": [
      "India\n",
      "Israel\n",
      "Canada\n"
     ]
    }
   ],
   "source": [
    "#Using For loop, iterate over the list and print the elements.\n",
    "for i in x:\n",
    "        print (i)"
   ]
  },
  {
   "attachments": {},
   "cell_type": "markdown",
   "metadata": {
    "id": "jz61jhLlOnnI"
   },
   "source": [
    "<p style='text-align: right;'> 2 points </p>\n"
   ]
  },
  {
   "cell_type": "code",
   "execution_count": 49,
   "metadata": {
    "colab": {
     "base_uri": "https://localhost:8080/"
    },
    "id": "mvqvf7OAOnnI",
    "outputId": "9c228334-1c19-46a5-e21f-9fd062ac213d"
   },
   "outputs": [
    {
     "name": "stdout",
     "output_type": "stream",
     "text": [
      "2 * 1 = 2\n",
      "2 * 2 = 4\n",
      "2 * 3 = 6\n",
      "2 * 4 = 8\n",
      "2 * 5 = 10\n",
      "2 * 6 = 12\n",
      "2 * 7 = 14\n",
      "2 * 8 = 16\n",
      "2 * 9 = 18\n",
      "2 * 10 = 20\n"
     ]
    }
   ],
   "source": [
    "# Using For loop, print the table of 2.\n",
    "num = 2\n",
    "\n",
    "for i in range(1,11):\n",
    "    print(num ,\"*\", i,\"=\", num*i)\n",
    "    "
   ]
  },
  {
   "attachments": {},
   "cell_type": "markdown",
   "metadata": {
    "id": "yg4SzR4oOnnI"
   },
   "source": [
    "For a given list, x = [21, ‘hello,’cream’, 20,19,’village’], using for loop to iterate over the items and using - if statement print the items that are of type int"
   ]
  },
  {
   "cell_type": "code",
   "execution_count": 50,
   "metadata": {
    "colab": {
     "base_uri": "https://localhost:8080/"
    },
    "id": "05SkQO3COnnJ",
    "outputId": "c4bbb3e7-b3db-4b58-981a-2776a62d28cb"
   },
   "outputs": [
    {
     "name": "stdout",
     "output_type": "stream",
     "text": [
      "21\n",
      "20\n",
      "19\n"
     ]
    }
   ],
   "source": [
    "#code here\n",
    "# hint: use if type(i) == int: condition to print variable which are of int type\n",
    "\n",
    "x = [21, 'hello','cream', 20,19,'village']\n",
    "\n",
    "for i in x:\n",
    "    if type(i)==int:\n",
    "        print(i)\n"
   ]
  },
  {
   "attachments": {},
   "cell_type": "markdown",
   "metadata": {
    "id": "ab7bEu3xOnnJ"
   },
   "source": [
    "Using For loop, lets create a pattern. "
   ]
  },
  {
   "attachments": {},
   "cell_type": "markdown",
   "metadata": {
    "id": "2KNZFi5zOnnJ"
   },
   "source": [
    "<p style='text-align: right;'> 10 points </p>\n"
   ]
  },
  {
   "cell_type": "code",
   "execution_count": 51,
   "metadata": {
    "colab": {
     "base_uri": "https://localhost:8080/"
    },
    "id": "kOZsmIiLOnnJ",
    "outputId": "ce9e2450-eb16-4987-959a-268d9efca100"
   },
   "outputs": [
    {
     "name": "stdout",
     "output_type": "stream",
     "text": [
      "* \n",
      "* * \n",
      "* * * \n",
      "* * * * \n",
      "* * * * * \n"
     ]
    }
   ],
   "source": [
    "# print the following pattern\n",
    "n = 5\n",
    "for i in range(n):\n",
    "    for j in range(i+1):\n",
    "        print(\"*\",end=\" \")\n",
    "    print()"
   ]
  },
  {
   "attachments": {},
   "cell_type": "markdown",
   "metadata": {
    "id": "1WYgQq4AOnnJ"
   },
   "source": [
    "## While loop"
   ]
  },
  {
   "attachments": {},
   "cell_type": "markdown",
   "metadata": {
    "id": "jyjME3nPOnnK"
   },
   "source": [
    "- Using while loop make a function that prints all the values between 1 to n. "
   ]
  },
  {
   "attachments": {},
   "cell_type": "markdown",
   "metadata": {
    "id": "xbJ4Cz9gOnnK"
   },
   "source": [
    "<p style='text-align: right;'> 10 points </p>\n"
   ]
  },
  {
   "cell_type": "code",
   "execution_count": 2,
   "metadata": {},
   "outputs": [
    {
     "name": "stdout",
     "output_type": "stream",
     "text": [
      "1\n",
      "2\n",
      "3\n",
      "4\n",
      "5\n",
      "6\n",
      "7\n",
      "8\n",
      "9\n",
      "10\n"
     ]
    }
   ],
   "source": [
    "def print_values(n):\n",
    "    i = 1\n",
    "    while i <= n:\n",
    "        print(i)\n",
    "        i += 1\n",
    "print_values(10)"
   ]
  },
  {
   "attachments": {},
   "cell_type": "markdown",
   "metadata": {
    "id": "kKB5qVCxOnnL"
   },
   "source": [
    "### Write the code for the following, what is the output obtained?\n",
    "- Set a variable flag = True, num = 5\n",
    "- Run a while loop till flag = True\n",
    "- Inside the while loop - \n",
    "    - Increment the value of num by 5\n",
    "    - If value of num is greater then 50, set flag to be False"
   ]
  },
  {
   "cell_type": "code",
   "execution_count": null,
   "metadata": {
    "colab": {
     "base_uri": "https://localhost:8080/"
    },
    "id": "RsCW8__JOnnM",
    "outputId": "980de4fb-c5af-4c5e-86de-2b48a3c3ad02"
   },
   "outputs": [
    {
     "name": "stdout",
     "output_type": "stream",
     "text": [
      "5\n",
      "10\n",
      "15\n",
      "20\n",
      "25\n",
      "30\n",
      "35\n",
      "40\n",
      "45\n",
      "50\n"
     ]
    }
   ],
   "source": [
    "# your code here\n",
    "\n",
    "flag = True\n",
    "num = 5\n",
    "while flag:\n",
    "    print(num)\n",
    "    num += 5\n",
    "    if num>50:\n",
    "        flag = False\n"
   ]
  },
  {
   "attachments": {},
   "cell_type": "markdown",
   "metadata": {
    "id": "sQxbS2kzOnnM"
   },
   "source": [
    "Awsesome! Great job so far. Hope you fell in love with python now."
   ]
  }
 ],
 "metadata": {
  "colab": {
   "collapsed_sections": [],
   "name": "Python_Basics_withoutcode.ipynb",
   "provenance": []
  },
  "interpreter": {
   "hash": "fb2d3f2a20add04007a107bc483b4e625069f7acb60837d887d77da2f0eec5b6"
  },
  "kernelspec": {
   "display_name": "Python 3 (ipykernel)",
   "language": "python",
   "name": "python3"
  },
  "language_info": {
   "codemirror_mode": {
    "name": "ipython",
    "version": 3
   },
   "file_extension": ".py",
   "mimetype": "text/x-python",
   "name": "python",
   "nbconvert_exporter": "python",
   "pygments_lexer": "ipython3",
   "version": "3.9.13"
  }
 },
 "nbformat": 4,
 "nbformat_minor": 1
}
