{
 "cells": [
  {
   "attachments": {},
   "cell_type": "markdown",
   "id": "d33b6108",
   "metadata": {},
   "source": [
    "# Tuple Assignment"
   ]
  },
  {
   "cell_type": "code",
   "execution_count": 1,
   "id": "e490d9d4",
   "metadata": {},
   "outputs": [
    {
     "name": "stdout",
     "output_type": "stream",
     "text": [
      "<class 'tuple'>\n"
     ]
    }
   ],
   "source": [
    "#Question 1. Write a Python program to create a tuple.\n",
    "\n",
    "name = ('Pranita',)\n",
    "print(type(name))"
   ]
  },
  {
   "cell_type": "code",
   "execution_count": 2,
   "id": "cb3d07e8",
   "metadata": {},
   "outputs": [
    {
     "data": {
      "text/plain": [
       "()"
      ]
     },
     "execution_count": 2,
     "metadata": {},
     "output_type": "execute_result"
    }
   ],
   "source": [
    "a =()\n",
    "a = tuple()\n",
    "a"
   ]
  },
  {
   "cell_type": "code",
   "execution_count": 6,
   "id": "f8035427",
   "metadata": {},
   "outputs": [
    {
     "data": {
      "text/plain": [
       "('me', '21', (4+1j), True)"
      ]
     },
     "execution_count": 6,
     "metadata": {},
     "output_type": "execute_result"
    }
   ],
   "source": [
    "#Question 2.  Write a Python program to create a tuple with different data types.\n",
    "\n",
    "a = ('me','21',4+1j, True)\n",
    "a"
   ]
  },
  {
   "cell_type": "code",
   "execution_count": 7,
   "id": "a40ca1e6",
   "metadata": {},
   "outputs": [
    {
     "data": {
      "text/plain": [
       "(1, 2, 3, 4, 5, 6)"
      ]
     },
     "execution_count": 7,
     "metadata": {},
     "output_type": "execute_result"
    }
   ],
   "source": [
    "#Question 3. Write a Python program to create a tuple with numbers and print one item.\n",
    "\n",
    "a = 1,2,3,4,5,6\n",
    "b=tuple(a)\n",
    "b"
   ]
  },
  {
   "cell_type": "code",
   "execution_count": 11,
   "id": "99dc3c2b",
   "metadata": {},
   "outputs": [
    {
     "data": {
      "text/plain": [
       "'Happy'"
      ]
     },
     "execution_count": 11,
     "metadata": {},
     "output_type": "execute_result"
    }
   ],
   "source": [
    "#Question 4. Write a Python program to unpack a tuple in several variables\n",
    "\n",
    "z = ( 24, False,'Happy')\n",
    "a,b,c = ( 24, False,'Happy')\n",
    "c"
   ]
  },
  {
   "cell_type": "code",
   "execution_count": 13,
   "id": "953df963",
   "metadata": {},
   "outputs": [
    {
     "data": {
      "text/plain": [
       "(1, 2, 3, 4, 5, 6, 7)"
      ]
     },
     "execution_count": 13,
     "metadata": {},
     "output_type": "execute_result"
    }
   ],
   "source": [
    "#Question 5.Write a Python program to add an item in a tuple\n",
    "\n",
    "a = (1,2,3,4,5,6)\n",
    "a = a + (7,)\n",
    "a"
   ]
  },
  {
   "cell_type": "code",
   "execution_count": 16,
   "id": "393d2217",
   "metadata": {},
   "outputs": [
    {
     "data": {
      "text/plain": [
       "(1, 2, 3, 4, 5, 6, 7, 8, 9)"
      ]
     },
     "execution_count": 16,
     "metadata": {},
     "output_type": "execute_result"
    }
   ],
   "source": [
    "a = (1,2,3,4,5,6)\n",
    "b = (7,8,9)\n",
    "c =a+b\n",
    "c"
   ]
  },
  {
   "cell_type": "code",
   "execution_count": 17,
   "id": "98125248",
   "metadata": {},
   "outputs": [
    {
     "data": {
      "text/plain": [
       "(1, 2, 3, 7, 8, 9, 4, 5, 6)"
      ]
     },
     "execution_count": 17,
     "metadata": {},
     "output_type": "execute_result"
    }
   ],
   "source": [
    "c = a[:3] + b + a[3:]\n",
    "c"
   ]
  },
  {
   "cell_type": "code",
   "execution_count": 20,
   "id": "ae9d3083",
   "metadata": {},
   "outputs": [
    {
     "data": {
      "text/plain": [
       "'pranita'"
      ]
     },
     "execution_count": 20,
     "metadata": {},
     "output_type": "execute_result"
    }
   ],
   "source": [
    "#Question 6. Write a Python program to convert a tuple to a string.\n",
    "\n",
    "name  = ('p','r','a','n','i','t','a')\n",
    "string = ''.join(name)\n",
    "string"
   ]
  },
  {
   "cell_type": "code",
   "execution_count": 25,
   "id": "d7b5b381",
   "metadata": {},
   "outputs": [
    {
     "name": "stdout",
     "output_type": "stream",
     "text": [
      "H\n",
      "T\n"
     ]
    }
   ],
   "source": [
    "#Question 7. Write a Python program to get the 4th element and 4th element from last of a tuple.\n",
    "\n",
    "my_tuple=(\"P\",\"Y\",\"T\",\"H\",\"O\",\"N\",)\n",
    "print(my_tuple[3])\n",
    "print (my_tuple[-4])"
   ]
  },
  {
   "cell_type": "code",
   "execution_count": 29,
   "id": "0d027549",
   "metadata": {},
   "outputs": [
    {
     "name": "stdout",
     "output_type": "stream",
     "text": [
      "6\n"
     ]
    }
   ],
   "source": [
    "#Question 9. Write a Python program to find the repeated items of a tuple.\n",
    "\n",
    "a = (1,2,3,4,5,6,2,7,2,8,9,10,2,7,9,8,2,8,3,1,2,4)\n",
    "count= a.count(2)\n",
    "print(count)"
   ]
  },
  {
   "cell_type": "code",
   "execution_count": 30,
   "id": "46269c92",
   "metadata": {},
   "outputs": [
    {
     "name": "stdout",
     "output_type": "stream",
     "text": [
      "True\n",
      "True\n"
     ]
    }
   ],
   "source": [
    "#Question 10. Write a Python program to check whether an element exists within a tuple.\n",
    "\n",
    "name =('p','r','a','n','i','t','a')\n",
    "\n",
    "print('a' in name)\n",
    "print('t'in name)"
   ]
  },
  {
   "cell_type": "code",
   "execution_count": 32,
   "id": "22376135",
   "metadata": {},
   "outputs": [
    {
     "data": {
      "text/plain": [
       "(1, 2, 3, 4, 5, 6)"
      ]
     },
     "execution_count": 32,
     "metadata": {},
     "output_type": "execute_result"
    }
   ],
   "source": [
    "#Question 11. Write a Python program to convert a list to a tuple.\n",
    "list1 = [1,2,3,4,5,6]\n",
    "tup1 = tuple(list1)\n",
    "tup1"
   ]
  },
  {
   "cell_type": "code",
   "execution_count": 34,
   "id": "fd772fed",
   "metadata": {},
   "outputs": [
    {
     "data": {
      "text/plain": [
       "('p', 'r', 'n', 'i', 't', 'a')"
      ]
     },
     "execution_count": 34,
     "metadata": {},
     "output_type": "execute_result"
    }
   ],
   "source": [
    "#Question 12. Write a Python program to remove an item from a tuple\n",
    "\n",
    "name  = ('p','r','a','n','i','t','a')\n",
    "list1 = list(name)\n",
    "list1.remove(\"a\")\n",
    "tup=tuple(list1)\n",
    "tup"
   ]
  },
  {
   "cell_type": "code",
   "execution_count": 35,
   "id": "c28598fa",
   "metadata": {},
   "outputs": [
    {
     "data": {
      "text/plain": [
       "(1, 2, 3, 7, 8, 9)"
      ]
     },
     "execution_count": 35,
     "metadata": {},
     "output_type": "execute_result"
    }
   ],
   "source": [
    "#Question 13.  Write a Python program to slice a tuple.\n",
    "\n",
    "num =(1, 2, 3, 7, 8, 9, 4, 5, 6)\n",
    "num[:6]\n",
    "\n"
   ]
  },
  {
   "cell_type": "code",
   "execution_count": 36,
   "id": "e3626137",
   "metadata": {},
   "outputs": [
    {
     "data": {
      "text/plain": [
       "(2, 3, 7, 8, 9, 4)"
      ]
     },
     "execution_count": 36,
     "metadata": {},
     "output_type": "execute_result"
    }
   ],
   "source": [
    "num[1:7]"
   ]
  },
  {
   "cell_type": "code",
   "execution_count": 37,
   "id": "55233c90",
   "metadata": {
    "scrolled": true
   },
   "outputs": [
    {
     "data": {
      "text/plain": [
       "(2, 7, 9)"
      ]
     },
     "execution_count": 37,
     "metadata": {},
     "output_type": "execute_result"
    }
   ],
   "source": [
    "num[1:7:2]"
   ]
  },
  {
   "cell_type": "code",
   "execution_count": 38,
   "id": "dfd813a0",
   "metadata": {},
   "outputs": [
    {
     "data": {
      "text/plain": [
       "(1, 2, 3, 7, 8, 9, 4, 5)"
      ]
     },
     "execution_count": 38,
     "metadata": {},
     "output_type": "execute_result"
    }
   ],
   "source": [
    "num[:-1]"
   ]
  },
  {
   "cell_type": "code",
   "execution_count": 39,
   "id": "5a1b6f04",
   "metadata": {},
   "outputs": [
    {
     "data": {
      "text/plain": [
       "(6,)"
      ]
     },
     "execution_count": 39,
     "metadata": {},
     "output_type": "execute_result"
    }
   ],
   "source": [
    "num[-1:]"
   ]
  },
  {
   "cell_type": "code",
   "execution_count": 40,
   "id": "ce31a207",
   "metadata": {},
   "outputs": [
    {
     "data": {
      "text/plain": [
       "8"
      ]
     },
     "execution_count": 40,
     "metadata": {},
     "output_type": "execute_result"
    }
   ],
   "source": [
    "#Question 14.Write a Python program to find the index of an item of a tuple.\n",
    "\n",
    "num =(1, 2, 3, 7, 8, 9, 4, 5, 6)\n",
    "num.index(6)"
   ]
  },
  {
   "cell_type": "code",
   "execution_count": 44,
   "id": "840410d1",
   "metadata": {},
   "outputs": [
    {
     "name": "stdout",
     "output_type": "stream",
     "text": [
      "9\n"
     ]
    }
   ],
   "source": [
    "#Question 15. Write a Python program to find the length of a tuple.\n",
    "\n",
    "num =(1, 2, 3, 7, 8, 9, 4, 5, 6)\n",
    "\n",
    "x=len(num)\n",
    "print(x)"
   ]
  },
  {
   "cell_type": "code",
   "execution_count": 50,
   "id": "491d3259",
   "metadata": {
    "scrolled": true
   },
   "outputs": [
    {
     "name": "stdout",
     "output_type": "stream",
     "text": [
      "7\n"
     ]
    }
   ],
   "source": [
    "name  = ('p','r','a','n','i','t','a')\n",
    "x=len(name)\n",
    "print(x)"
   ]
  },
  {
   "cell_type": "code",
   "execution_count": 45,
   "id": "f0088f11",
   "metadata": {},
   "outputs": [
    {
     "name": "stdout",
     "output_type": "stream",
     "text": [
      "{1: 2, 3: 4}\n"
     ]
    }
   ],
   "source": [
    "#Question 16.Write a Python program to convert a tuple to a dictionary.\n",
    "\n",
    "pair  = ((1,2),(3,4))\n",
    "x=dict(pair)\n",
    "print(x)"
   ]
  },
  {
   "cell_type": "code",
   "execution_count": 47,
   "id": "d975805d",
   "metadata": {},
   "outputs": [
    {
     "name": "stdout",
     "output_type": "stream",
     "text": [
      "{'P': 2, 'Z': 4}\n"
     ]
    }
   ],
   "source": [
    "pair1  = (('P',2),('Z',4))\n",
    "x=dict(pair1)\n",
    "print(x)"
   ]
  },
  {
   "cell_type": "code",
   "execution_count": 49,
   "id": "ab04e676",
   "metadata": {},
   "outputs": [
    {
     "name": "stdout",
     "output_type": "stream",
     "text": [
      "[(1, 3, 5), (2, 4, 6)]\n"
     ]
    }
   ],
   "source": [
    "#Question 17. Write a Python program to unzip a list of tuples into individual lists.\n",
    "\n",
    "list3 = [(1,2),(3,4),(5,6)]\n",
    "x= list(zip(*list3))\n",
    "print(x)\n"
   ]
  },
  {
   "cell_type": "code",
   "execution_count": 54,
   "id": "5952249b",
   "metadata": {},
   "outputs": [
    {
     "name": "stdout",
     "output_type": "stream",
     "text": [
      "('a', 't', 'i', 'n', 'a', 'r', 'p')\n"
     ]
    }
   ],
   "source": [
    "#Question 18. Write a Python program to reverse a tuple\n",
    "\n",
    "a = ('p','r','a','n','i','t','a')\n",
    "x=reversed(a)\n",
    "print(tuple(x))"
   ]
  },
  {
   "cell_type": "code",
   "execution_count": 55,
   "id": "223dd738",
   "metadata": {},
   "outputs": [
    {
     "name": "stdout",
     "output_type": "stream",
     "text": [
      "{1: 2, 3: 4, 5: 6}\n"
     ]
    }
   ],
   "source": [
    "#Question 19 . Write a Python program to convert a list of tuples into a dictionary.\n",
    "\n",
    "list3 = [(1,2),(3,4),(5,6)]\n",
    "x= dict(list3)\n",
    "print(x)"
   ]
  },
  {
   "cell_type": "code",
   "execution_count": 58,
   "id": "bd345fe8",
   "metadata": {},
   "outputs": [
    {
     "name": "stdout",
     "output_type": "stream",
     "text": [
      "This is tuple, (100, 200, 300)\n"
     ]
    }
   ],
   "source": [
    "#Question 20.Write a Python program to print a tuple with string formatting.\n",
    "\n",
    "tup = (100, 200, 300)\n",
    "x = ('This is tuple, {0}'.format(tup))\n",
    "print(x)\n"
   ]
  },
  {
   "cell_type": "code",
   "execution_count": 71,
   "id": "9ac64fd6",
   "metadata": {},
   "outputs": [
    {
     "name": "stdout",
     "output_type": "stream",
     "text": [
      "[(10, 20, 100)]\n",
      "[(40, 50, 100)]\n",
      "[(70, 80, 100)]\n"
     ]
    }
   ],
   "source": [
    "#Question 21. Write a Python program to replace last value of tuples in a list.\n",
    "\n",
    "list5= [(10, 20, 40), (40, 50, 60), (70, 80, 90)]\n",
    "\n",
    "for i in list5:\n",
    "    print([i[:-1] + (100,)])\n"
   ]
  },
  {
   "cell_type": "code",
   "execution_count": 77,
   "id": "d9c5f27a",
   "metadata": {},
   "outputs": [
    {
     "data": {
      "text/plain": [
       "[('',), ('a', 'b'), ('a', 'b', 'c'), 'd']"
      ]
     },
     "execution_count": 77,
     "metadata": {},
     "output_type": "execute_result"
    }
   ],
   "source": [
    "#Question 22. Write a Python program to remove an empty tuple(s) from a list of tuples.\n",
    "\n",
    "list4 = [(), (), ('',), ('a', 'b'), ('a', 'b', 'c'), ('d')]\n",
    "\n",
    "list(filter(None,list4))"
   ]
  },
  {
   "cell_type": "code",
   "execution_count": 85,
   "id": "45a9e8b9",
   "metadata": {},
   "outputs": [
    {
     "data": {
      "text/plain": [
       "[('item3', '24.5'), ('item2', '15.10'), ('item1', '12.20')]"
      ]
     },
     "execution_count": 85,
     "metadata": {},
     "output_type": "execute_result"
    }
   ],
   "source": [
    "#Question 23. Write a Python program to sort a tuple by its float element.\n",
    "\n",
    "tup2 = [('item1', '12.20'), ('item2', '15.10'), ('item3', '24.5')]\n",
    "\n",
    "tup2.sort(key=lambda x:x[1], reverse=True)\n",
    "tup2\n"
   ]
  },
  {
   "cell_type": "code",
   "execution_count": 90,
   "id": "4f74897f",
   "metadata": {},
   "outputs": [
    {
     "name": "stdout",
     "output_type": "stream",
     "text": [
      "(6, 19, 25)\n"
     ]
    }
   ],
   "source": [
    "#Question 24. Write a Python program to count the elements in a list until an element is a tuple.\n",
    "\n",
    "list6 = [12,15,11,(6,19,25),4,18]\n",
    "\n",
    "count=0\n",
    "\n",
    "for i in list6:\n",
    "    if isinstance (i,tuple):\n",
    "        break\n",
    "        count+=1\n",
    "print(i)"
   ]
  },
  {
   "cell_type": "code",
   "execution_count": 91,
   "id": "be105dcf",
   "metadata": {},
   "outputs": [
    {
     "name": "stdout",
     "output_type": "stream",
     "text": [
      "('p', 'y', 't', 'h', 'o', 'n', ' ', '3', '.', '0')\n"
     ]
    }
   ],
   "source": [
    "#Question 25.Write a Python program convert a given string list to a tuple.\n",
    "\n",
    "str1 = 'python 3.0'\n",
    "\n",
    "x = tuple(str1)\n",
    "print(x)"
   ]
  },
  {
   "cell_type": "code",
   "execution_count": 103,
   "id": "454ee4b6",
   "metadata": {},
   "outputs": [
    {
     "name": "stdout",
     "output_type": "stream",
     "text": [
      "[4, 3, 2, 2, -1, 18]\n",
      "-864\n"
     ]
    }
   ],
   "source": [
    "#Question 26. Write a Python program calculate the product, multiplying all the numbers of a given tuple.\n",
    "\n",
    "tup3 = (4, 3, 2, 2, -1, 18)\n",
    "tup4 = (2, 4, 8, 8, 3, 2, 9)\n",
    "\n",
    "result = 1\n",
    "\n",
    "for i in tup3:\n",
    "    result=result *i\n",
    "print(result)\n",
    "    "
   ]
  },
  {
   "cell_type": "code",
   "execution_count": 102,
   "id": "8cc48308",
   "metadata": {},
   "outputs": [
    {
     "name": "stdout",
     "output_type": "stream",
     "text": [
      "27648\n"
     ]
    }
   ],
   "source": [
    "tup4 = (2, 4, 8, 8, 3, 2, 9)\n",
    "\n",
    "result = 1\n",
    "\n",
    "for i in tup4 :\n",
    "    result = result*i\n",
    "    \n",
    "print(result)"
   ]
  },
  {
   "cell_type": "code",
   "execution_count": 114,
   "id": "b275cf19",
   "metadata": {},
   "outputs": [],
   "source": [
    "#Question27. Write a Python program to calculate the average value of the numbers in a given tuple of tuples.\n",
    "\n",
    "tup5 = ((10, 10, 10, 12), (30, 45, 56, 45), (81, 80, 39, 32), (1, 2, 3, 4))\n"
   ]
  },
  {
   "cell_type": "code",
   "execution_count": 142,
   "id": "6a08a23b",
   "metadata": {},
   "outputs": [
    {
     "name": "stdout",
     "output_type": "stream",
     "text": [
      "123\n"
     ]
    }
   ],
   "source": [
    "#Question 29. Write a Python program to convert a given tuple of positive integers into an integer. \n",
    "\n",
    "tuple1= (1, 2, 3)\n",
    "import functools\n",
    "result = functools.reduce(lambda sub, ele: sub * 10 + ele,tuple1)\n",
    "print(result)"
   ]
  },
  {
   "cell_type": "code",
   "execution_count": 146,
   "id": "d00e0e25",
   "metadata": {},
   "outputs": [
    {
     "name": "stdout",
     "output_type": "stream",
     "text": [
      "White not present in tuple\n"
     ]
    }
   ],
   "source": [
    "#Question30. Write a Python program to check if a specified element presents in a tuple of tuples.\n",
    "#Check if White presenet in said tuple of tuples!\n",
    "\n",
    "tuple_1=(('Red', 'White', 'Blue'), ('Green', 'Pink', 'Purple'), ('Orange', 'Yellow', 'Lime'))\n",
    "\n",
    "colour = 'White'\n",
    "\n",
    "if colour in tuple_1:\n",
    "    print(colour ,\"present in tuple\")\n",
    "else:\n",
    "    print(colour ,\"not present in tuple\")    \n",
    "\n"
   ]
  },
  {
   "cell_type": "code",
   "execution_count": null,
   "id": "a2c03c6b",
   "metadata": {},
   "outputs": [],
   "source": []
  },
  {
   "cell_type": "code",
   "execution_count": null,
   "id": "7e7be077",
   "metadata": {},
   "outputs": [],
   "source": []
  },
  {
   "cell_type": "code",
   "execution_count": null,
   "id": "17d3240e",
   "metadata": {},
   "outputs": [],
   "source": []
  }
 ],
 "metadata": {
  "kernelspec": {
   "display_name": "Python 3 (ipykernel)",
   "language": "python",
   "name": "python3"
  },
  "language_info": {
   "codemirror_mode": {
    "name": "ipython",
    "version": 3
   },
   "file_extension": ".py",
   "mimetype": "text/x-python",
   "name": "python",
   "nbconvert_exporter": "python",
   "pygments_lexer": "ipython3",
   "version": "3.9.12"
  }
 },
 "nbformat": 4,
 "nbformat_minor": 5
}
