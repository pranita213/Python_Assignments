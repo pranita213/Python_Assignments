{
 "cells": [
  {
   "cell_type": "markdown",
   "id": "cb16aadf",
   "metadata": {},
   "source": [
    "# String Assignment"
   ]
  },
  {
   "cell_type": "code",
   "execution_count": 3,
   "id": "bb6aa832",
   "metadata": {
    "scrolled": true
   },
   "outputs": [
    {
     "name": "stdout",
     "output_type": "stream",
     "text": [
      "26\n"
     ]
    }
   ],
   "source": [
    "#Question 1:Write a Python program to calculate the length of a string.\n",
    "#using loop\n",
    "str= input(\"enter any string  :\")\n",
    "count = 0\n",
    "\n",
    "for i in str:\n",
    "    count+=1\n",
    "    \n",
    "print(count)"
   ]
  },
  {
   "cell_type": "code",
   "execution_count": 4,
   "id": "364192f0",
   "metadata": {
    "scrolled": true
   },
   "outputs": [
    {
     "name": "stdout",
     "output_type": "stream",
     "text": [
      "5\n"
     ]
    }
   ],
   "source": [
    "#using while\n",
    "\n",
    "str= input(\"enter any string :\")\n",
    "count = 0\n",
    "\n",
    "while str [count:]:\n",
    "    count+=1\n",
    "    \n",
    "print(count)\n"
   ]
  },
  {
   "cell_type": "code",
   "execution_count": 5,
   "id": "6e685260",
   "metadata": {},
   "outputs": [
    {
     "name": "stdout",
     "output_type": "stream",
     "text": [
      "3\n"
     ]
    }
   ],
   "source": [
    "#Question 2:Write a Python program to count the number of characters (character frequency) in a string.\n",
    "#Sample String : google.com'\n",
    "    \n",
    "a = input (\"Enter any string:\")\n",
    "c = input('Enter character to check frequency:')\n",
    "count=0\n",
    "for i in a:\n",
    "    if i==c:\n",
    "        count+=1\n",
    "print(count)"
   ]
  },
  {
   "cell_type": "code",
   "execution_count": 6,
   "id": "ea4d2697",
   "metadata": {},
   "outputs": [
    {
     "name": "stdout",
     "output_type": "stream",
     "text": [
      "{'g': 2, 'o': 3, 'l': 1, 'e': 1, '.': 1, 'c': 1, 'm': 1}\n"
     ]
    }
   ],
   "source": [
    "# method 2\n",
    "\n",
    "n=input(\"Enter the String: \").lower()\n",
    "s={}\n",
    "for i in n:\n",
    "    if i in s:\n",
    "        s[i]+=1\n",
    "    else:\n",
    "        s[i]=1\n",
    "print(s)"
   ]
  },
  {
   "cell_type": "code",
   "execution_count": 7,
   "id": "8171ac3f",
   "metadata": {},
   "outputs": [
    {
     "name": "stdout",
     "output_type": "stream",
     "text": [
      "empty string\n"
     ]
    }
   ],
   "source": [
    "#Question 3: Write a Python program to get a string made of the first 2 and the last 2 chars from a  \n",
    "#given a string.If the string length is less than 2, return instead of the empty string.\n",
    "\n",
    "my_string = input(\"enter a string \")\n",
    "\n",
    "if len(my_string) > 2:\n",
    "    print(my_string[0:2]+my_string[-2:])\n",
    "else:\n",
    "    print('empty string')"
   ]
  },
  {
   "cell_type": "code",
   "execution_count": 8,
   "id": "b22bf1c1",
   "metadata": {},
   "outputs": [
    {
     "name": "stdout",
     "output_type": "stream",
     "text": [
      "HelloHello\n"
     ]
    }
   ],
   "source": [
    "my_string = input(\"enter a string \")\n",
    "\n",
    "if len(my_string) >= 2:\n",
    "    print(my_string*2)\n",
    "else:\n",
    "    print('empty string')"
   ]
  },
  {
   "cell_type": "code",
   "execution_count": 9,
   "id": "b4576250",
   "metadata": {},
   "outputs": [
    {
     "name": "stdout",
     "output_type": "stream",
     "text": [
      "empty string\n"
     ]
    }
   ],
   "source": [
    "my_string = input(\"enter a string \")\n",
    "\n",
    "if len(my_string)< 2:\n",
    "    print(my_string)\n",
    "else:\n",
    "    print('empty string')"
   ]
  },
  {
   "cell_type": "code",
   "execution_count": 10,
   "id": "b782625f",
   "metadata": {},
   "outputs": [
    {
     "name": "stdout",
     "output_type": "stream",
     "text": [
      "sta$t\n"
     ]
    }
   ],
   "source": [
    "#Question 4. Write a Python program to get a string from a given string where all occurrences of its first char have been \n",
    "#changed to '$', except the first char itself.\n",
    "\n",
    "\n",
    "str1= input (\"Enter any string : \")\n",
    "\n",
    "char = str1[0]\n",
    "str1 = str1.replace(\"r\",\"$\")\n",
    "str1 = char + str1[1:]\n",
    "print(str1)"
   ]
  },
  {
   "cell_type": "code",
   "execution_count": 11,
   "id": "20bf4bc7",
   "metadata": {},
   "outputs": [
    {
     "name": "stdout",
     "output_type": "stream",
     "text": [
      "Stppy Haudent\n"
     ]
    }
   ],
   "source": [
    "#Question 5.  Write a Python program to get a single string from two given strings, separated by a space and swap the first \n",
    "#two characters of each string.\n",
    "\n",
    "string_one = input(\"enter first string \")\n",
    "string_two = input(\"enter second string \")\n",
    "\n",
    "new_string = string_two[:2]+string_one[2:]+' '+string_one[:2]+string_two[2:]\n",
    "print(new_string)"
   ]
  },
  {
   "cell_type": "code",
   "execution_count": 12,
   "id": "bd72790e",
   "metadata": {},
   "outputs": [
    {
     "name": "stdout",
     "output_type": "stream",
     "text": [
      "stringly\n"
     ]
    }
   ],
   "source": [
    "#Question 6:Write a Python program to add 'ing' at the end of a given string (length should be at least 3). If the given string\n",
    "#already ends with 'ing' then add 'ly' instead. If the string length of the given string is less than 3, leave it unchanged.\n",
    "\n",
    "my_string = input(\"enter a string \")\n",
    "\n",
    "if len(my_string) < 3:\n",
    "    new_string = my_string\n",
    "elif my_string[-3:] == 'ing':\n",
    "    new_string = my_string + 'ly'\n",
    "else:\n",
    "    new_string = my_string + 'ing'\n",
    "print (new_string)"
   ]
  },
  {
   "cell_type": "code",
   "execution_count": 13,
   "id": "dce2d49a",
   "metadata": {},
   "outputs": [
    {
     "name": "stdout",
     "output_type": "stream",
     "text": [
      "helloing\n"
     ]
    }
   ],
   "source": [
    "my_string = input(\"enter a string \")\n",
    "\n",
    "if len(my_string) < 3:\n",
    "    new_string = my_string\n",
    "elif my_string[-3:] == 'ing':\n",
    "    new_string = my_string + 'ly'\n",
    "else:\n",
    "    new_string = my_string + 'ing'\n",
    "print (new_string)"
   ]
  },
  {
   "cell_type": "code",
   "execution_count": 14,
   "id": "418c0884",
   "metadata": {
    "scrolled": true
   },
   "outputs": [
    {
     "ename": "KeyboardInterrupt",
     "evalue": "Interrupted by user",
     "output_type": "error",
     "traceback": [
      "\u001b[1;31m---------------------------------------------------------------------------\u001b[0m",
      "\u001b[1;31mKeyboardInterrupt\u001b[0m                         Traceback (most recent call last)",
      "\u001b[1;32m~\\AppData\\Local\\Temp\\ipykernel_17808\\914826199.py\u001b[0m in \u001b[0;36m<module>\u001b[1;34m\u001b[0m\n\u001b[0;32m      2\u001b[0m \u001b[1;31m#if 'not' follows the 'poor', replace the whole 'not'...'poor' substring with 'good'. Return the resulting string.\u001b[0m\u001b[1;33m\u001b[0m\u001b[1;33m\u001b[0m\u001b[0m\n\u001b[0;32m      3\u001b[0m \u001b[1;33m\u001b[0m\u001b[0m\n\u001b[1;32m----> 4\u001b[1;33m \u001b[0mmy_string\u001b[0m \u001b[1;33m=\u001b[0m \u001b[0minput\u001b[0m\u001b[1;33m(\u001b[0m\u001b[1;34m\"enter a string \"\u001b[0m\u001b[1;33m)\u001b[0m\u001b[1;33m\u001b[0m\u001b[1;33m\u001b[0m\u001b[0m\n\u001b[0m\u001b[0;32m      5\u001b[0m \u001b[1;33m\u001b[0m\u001b[0m\n\u001b[0;32m      6\u001b[0m \u001b[0mnot_position\u001b[0m \u001b[1;33m=\u001b[0m \u001b[0mmy_string\u001b[0m\u001b[1;33m.\u001b[0m\u001b[0mfind\u001b[0m\u001b[1;33m(\u001b[0m\u001b[1;34m'not'\u001b[0m\u001b[1;33m)\u001b[0m\u001b[1;33m\u001b[0m\u001b[1;33m\u001b[0m\u001b[0m\n",
      "\u001b[1;32mc:\\Users\\Admin\\anaconda3\\lib\\site-packages\\ipykernel\\kernelbase.py\u001b[0m in \u001b[0;36mraw_input\u001b[1;34m(self, prompt)\u001b[0m\n\u001b[0;32m   1175\u001b[0m                 \u001b[1;34m\"raw_input was called, but this frontend does not support input requests.\"\u001b[0m\u001b[1;33m\u001b[0m\u001b[1;33m\u001b[0m\u001b[0m\n\u001b[0;32m   1176\u001b[0m             )\n\u001b[1;32m-> 1177\u001b[1;33m         return self._input_request(\n\u001b[0m\u001b[0;32m   1178\u001b[0m             \u001b[0mstr\u001b[0m\u001b[1;33m(\u001b[0m\u001b[0mprompt\u001b[0m\u001b[1;33m)\u001b[0m\u001b[1;33m,\u001b[0m\u001b[1;33m\u001b[0m\u001b[1;33m\u001b[0m\u001b[0m\n\u001b[0;32m   1179\u001b[0m             \u001b[0mself\u001b[0m\u001b[1;33m.\u001b[0m\u001b[0m_parent_ident\u001b[0m\u001b[1;33m[\u001b[0m\u001b[1;34m\"shell\"\u001b[0m\u001b[1;33m]\u001b[0m\u001b[1;33m,\u001b[0m\u001b[1;33m\u001b[0m\u001b[1;33m\u001b[0m\u001b[0m\n",
      "\u001b[1;32mc:\\Users\\Admin\\anaconda3\\lib\\site-packages\\ipykernel\\kernelbase.py\u001b[0m in \u001b[0;36m_input_request\u001b[1;34m(self, prompt, ident, parent, password)\u001b[0m\n\u001b[0;32m   1217\u001b[0m             \u001b[1;32mexcept\u001b[0m \u001b[0mKeyboardInterrupt\u001b[0m\u001b[1;33m:\u001b[0m\u001b[1;33m\u001b[0m\u001b[1;33m\u001b[0m\u001b[0m\n\u001b[0;32m   1218\u001b[0m                 \u001b[1;31m# re-raise KeyboardInterrupt, to truncate traceback\u001b[0m\u001b[1;33m\u001b[0m\u001b[1;33m\u001b[0m\u001b[0m\n\u001b[1;32m-> 1219\u001b[1;33m                 \u001b[1;32mraise\u001b[0m \u001b[0mKeyboardInterrupt\u001b[0m\u001b[1;33m(\u001b[0m\u001b[1;34m\"Interrupted by user\"\u001b[0m\u001b[1;33m)\u001b[0m \u001b[1;32mfrom\u001b[0m \u001b[1;32mNone\u001b[0m\u001b[1;33m\u001b[0m\u001b[1;33m\u001b[0m\u001b[0m\n\u001b[0m\u001b[0;32m   1220\u001b[0m             \u001b[1;32mexcept\u001b[0m \u001b[0mException\u001b[0m\u001b[1;33m:\u001b[0m\u001b[1;33m\u001b[0m\u001b[1;33m\u001b[0m\u001b[0m\n\u001b[0;32m   1221\u001b[0m                 \u001b[0mself\u001b[0m\u001b[1;33m.\u001b[0m\u001b[0mlog\u001b[0m\u001b[1;33m.\u001b[0m\u001b[0mwarning\u001b[0m\u001b[1;33m(\u001b[0m\u001b[1;34m\"Invalid Message:\"\u001b[0m\u001b[1;33m,\u001b[0m \u001b[0mexc_info\u001b[0m\u001b[1;33m=\u001b[0m\u001b[1;32mTrue\u001b[0m\u001b[1;33m)\u001b[0m\u001b[1;33m\u001b[0m\u001b[1;33m\u001b[0m\u001b[0m\n",
      "\u001b[1;31mKeyboardInterrupt\u001b[0m: Interrupted by user"
     ]
    }
   ],
   "source": [
    "#Question 7. . Write a Python program to find the first appearance of the substring 'not' and 'poor' from a given string, \n",
    "#if 'not' follows the 'poor', replace the whole 'not'...'poor' substring with 'good'. Return the resulting string.\n",
    "\n",
    "my_string = input(\"enter a string \")\n",
    "\n",
    "not_position = my_string.find('not')\n",
    "poor_position = my_string.find('poor')\n",
    "\n",
    "if not_position < poor_position :\n",
    "    new_string = my_string.replace(\"not that poor\", \"good\")\n",
    "else:\n",
    "    new_string = my_string\n",
    "print(new_string)\n"
   ]
  },
  {
   "cell_type": "code",
   "execution_count": 15,
   "id": "41e5aaab",
   "metadata": {
    "scrolled": true
   },
   "outputs": [
    {
     "name": "stdout",
     "output_type": "stream",
     "text": [
      "Longest Word: impossible\n",
      "Length of Longest Word: 10\n"
     ]
    }
   ],
   "source": [
    "#Question 8: Write a Python function that takes a list of words and returns the longest word and the length of the longest one.\n",
    "\n",
    "\n",
    "def find_longest_word(words):\n",
    "    longest_word = ''\n",
    "    longest_length = 0\n",
    "\n",
    "    for word in words:\n",
    "        if len(word) > longest_length:\n",
    "            longest_word = word\n",
    "            longest_length = len(word)\n",
    "\n",
    "    return longest_word, longest_length\n",
    "\n",
    "str_words = 'There is nothing impossible to they who will try'\n",
    "word_list = str_words.split()\n",
    "\n",
    "longest_word, length = find_longest_word(word_list)\n",
    "print(\"Longest Word:\", longest_word)\n",
    "print(\"Length of Longest Word:\", length)"
   ]
  },
  {
   "cell_type": "code",
   "execution_count": null,
   "id": "069b4fce",
   "metadata": {},
   "outputs": [],
   "source": [
    "#Question 9: Write a Python program to remove the nth index character from a nonempty string.\n",
    "\n",
    "my_string = input(\"enter a string :\")\n",
    "n = int(input(\"enter a number \"))\n",
    "new_string = my_string[:n-1] + my_string[n:]\n",
    "print(new_string)"
   ]
  },
  {
   "cell_type": "code",
   "execution_count": null,
   "id": "8379a529",
   "metadata": {},
   "outputs": [],
   "source": [
    "#Question 10:Write a Python program to change a given string to a new string where the first and last chars have been exchanged.\n",
    "\n",
    "my_string = input(\"enter a string  :\")\n",
    "new_string = my_string[-1] + my_string[1:6]+ my_string[0]\n",
    "print(new_string)"
   ]
  },
  {
   "cell_type": "code",
   "execution_count": null,
   "id": "bda0f702",
   "metadata": {},
   "outputs": [
    {
     "name": "stdout",
     "output_type": "stream",
     "text": [
      "Please Enter your Own String : 123456789\n",
      "Original String :   123456789\n",
      "Final String :      13579\n"
     ]
    }
   ],
   "source": [
    "#Question 11 : Write a Python program to remove the characters which have odd index values of a given string.\n",
    "\n",
    "str1 = input(\"Please Enter your Own String : \")\n",
    "\n",
    "str2 = ''\n",
    "\n",
    "for i in range(len(str1)):\n",
    "    if(i % 2 == 0):\n",
    "        str2 = str2 + str1[i]\n",
    "        \n",
    "print(\"Original String :  \", str1)\n",
    "print(\"Final String :     \", str2)"
   ]
  },
  {
   "cell_type": "code",
   "execution_count": null,
   "id": "2d6f4ce2",
   "metadata": {},
   "outputs": [
    {
     "name": "stdout",
     "output_type": "stream",
     "text": [
      "Number of occurrences found in the string:\n",
      "2\n"
     ]
    }
   ],
   "source": [
    "#Question 12 :Write a Python program to count the occurrences of each word in a given sentence.\n",
    "#method1\n",
    "string=\"My name is Pranita and Prajakta is my best friend\"\n",
    "word=\"is\"\n",
    "list=[]\n",
    "wordCount=0\n",
    "list=string.split(\" \")\n",
    "for i in range(0,len(list)):\n",
    "      if(word==list[i]):\n",
    "            wordCount=wordCount+1\n",
    "print(\"Number of occurrences found in the string:\")\n",
    "print(wordCount)\n"
   ]
  },
  {
   "cell_type": "code",
   "execution_count": null,
   "id": "7e85db92",
   "metadata": {},
   "outputs": [],
   "source": [
    "#method2\n",
    "string= input('Enter the string :')\n",
    "word= input ('Enter word :')\n",
    "string.count(word)"
   ]
  },
  {
   "cell_type": "code",
   "execution_count": null,
   "id": "3f5935e1",
   "metadata": {},
   "outputs": [],
   "source": [
    "#Question 13 :Write a Python script that takes input from the user and displays that input back in upper and lower cases.\n",
    "\n",
    "a = input(\"What is your name? :\")\n",
    "print(\"What is your name? \", a.upper())\n",
    "print(\"What is your name? \", a.lower())"
   ]
  },
  {
   "cell_type": "code",
   "execution_count": null,
   "id": "937579c6",
   "metadata": {},
   "outputs": [
    {
     "name": "stdout",
     "output_type": "stream",
     "text": [
      "Input colors : red, white, black, red, green, black,\n",
      ",  black,  black,  green,  red,  white, red\n"
     ]
    }
   ],
   "source": [
    "#Question 14: Write a Python program that accepts a comma separated sequence of words as input and printsthe unique words in \n",
    "#sorted form (alphanumerically).\n",
    "\n",
    "\n",
    "color = input(\"Input colors : \")\n",
    "\n",
    "color = color.split(\",\")\n",
    "color.sort()\n",
    "print((', ').join(color))\n"
   ]
  },
  {
   "cell_type": "code",
   "execution_count": null,
   "id": "ecbdc322",
   "metadata": {},
   "outputs": [
    {
     "name": "stdout",
     "output_type": "stream",
     "text": [
      "<i>Python</i>\n",
      "<b>Python Tutorial</b>\n"
     ]
    }
   ],
   "source": [
    "#Question 15: Write a Python function to create the HTML string with tags around the word(s).\n",
    "#add_tags('i', 'Python') -> '<i>Python</i>'\n",
    "#add_tags('b', 'Python Tutorial') -> '<b>Python Tutorial </b>'\n",
    "\n",
    "def add_tags(tag, text):\n",
    "    return \"<\"+tag+\">\"+text+\"<\"+'/'+tag+\">\"\n",
    "\n",
    "print(add_tags('i', 'Python'))\n",
    "print(add_tags('b', 'Python Tutorial'))\n"
   ]
  },
  {
   "cell_type": "code",
   "execution_count": null,
   "id": "070ed0c7",
   "metadata": {},
   "outputs": [
    {
     "name": "stdout",
     "output_type": "stream",
     "text": [
      "<i>Python</i>\n"
     ]
    }
   ],
   "source": [
    "x = \"i\"\n",
    "y = \"Python\"\n",
    "z = \"Python Tutorial\"\n",
    "print(\"<\"+ x +\">\"+ y +\"<\"+'/'+ x +\">\")"
   ]
  },
  {
   "cell_type": "code",
   "execution_count": null,
   "id": "79b46dd7",
   "metadata": {},
   "outputs": [
    {
     "name": "stdout",
     "output_type": "stream",
     "text": [
      "[[Python]]\n",
      "{{PHP}}\n"
     ]
    }
   ],
   "source": [
    "#Question 16:. Write a Python function to insert a string in the middle of a string.\n",
    "#insert_sting_middle('[[]]<<>>', 'Python') -> [[Python]]\n",
    "#insert_sting_middle('{{}}', 'PHP') -> {{PHP}}\n",
    "\n",
    "#Method 1\n",
    "\n",
    "def add(text):\n",
    "    return \"[[\"+text+\"]]\"\n",
    "\n",
    "print(add('Python'))\n",
    "\n",
    "def add(text):\n",
    "    return \"{{\"+text+\"}}\"\n",
    "\n",
    "print(add('PHP'))\n"
   ]
  },
  {
   "cell_type": "code",
   "execution_count": null,
   "id": "50935495",
   "metadata": {},
   "outputs": [
    {
     "name": "stdout",
     "output_type": "stream",
     "text": [
      "[[Python]]\n",
      "{{Python}}\n"
     ]
    }
   ],
   "source": [
    "#method 2  #concatenate\n",
    "str1 = '[[]]'\n",
    "str2 = '{{}}'\n",
    "\n",
    "text1 ='Python'\n",
    "text2 = 'PHP'\n",
    "\n",
    "ans_1 = str1[:2]+text1 +str1[2:]\n",
    "print(ans_1)\n",
    "ans_2 = str2[:2]+text1 +str2[2:]\n",
    "print(ans_2)"
   ]
  },
  {
   "cell_type": "code",
   "execution_count": null,
   "id": "2d9174a4",
   "metadata": {},
   "outputs": [
    {
     "name": "stdout",
     "output_type": "stream",
     "text": [
      "onononon\n",
      "eseseses\n"
     ]
    }
   ],
   "source": [
    "#Question 17: Write a Python function to get a string made of 4 copies of the last two characters of a specified string \n",
    "#(length must be at least 2).\n",
    "#insert_end('Python') -> onononon\n",
    "#insert_end('Exercises') -> eseseses\n",
    "\n",
    "str1 = 'Python'\n",
    "x = str1[4:]*4\n",
    "print(x)\n",
    "\n",
    "str2 = 'Exercises'\n",
    "y = str2[7:]*4\n",
    "print(y)"
   ]
  },
  {
   "cell_type": "code",
   "execution_count": 16,
   "id": "3b5621d5",
   "metadata": {},
   "outputs": [
    {
     "name": "stdout",
     "output_type": "stream",
     "text": [
      "pyt\n"
     ]
    }
   ],
   "source": [
    "#Question 18. Write a Python function to get a string made of its first three characters of a specified string. If the \n",
    "#length of the string is less than 3 then return the original string.\n",
    "#first_three('ipy') -> ipy\n",
    "#first_three('python') -> pyt\n",
    "\n",
    "str1 = 'python'\n",
    "if len(str1)>=3:\n",
    "        print(str1[:3])\n",
    "else:\n",
    "    print(str1)"
   ]
  },
  {
   "cell_type": "code",
   "execution_count": null,
   "id": "cf16d1ef",
   "metadata": {},
   "outputs": [
    {
     "data": {
      "text/plain": [
       "'https://www.w3resource.com/python'"
      ]
     },
     "execution_count": 9,
     "metadata": {},
     "output_type": "execute_result"
    }
   ],
   "source": [
    "#Question 19. Write a Python program to get the last part of a string before a specified character.\n",
    "#https://www.w3resource.com/python-exercises\n",
    "#https://www.w3resource.com/python\n",
    "\n",
    "str = 'https://www.w3resource.com/python-exercises'\n",
    "list = str.split('-')\n",
    "list[0]"
   ]
  },
  {
   "cell_type": "code",
   "execution_count": null,
   "id": "8c6e052d",
   "metadata": {},
   "outputs": [
    {
     "name": "stdout",
     "output_type": "stream",
     "text": [
      "ataD\n"
     ]
    }
   ],
   "source": [
    "#Question 20. Write a Python function to reverses a string if it's length is a multiple of 4.\n",
    "\n",
    "str = 'Data'\n",
    "if len(str)==4:\n",
    "    print(str[::-1])"
   ]
  },
  {
   "cell_type": "code",
   "execution_count": 28,
   "id": "dbfc4578",
   "metadata": {},
   "outputs": [
    {
     "name": "stdout",
     "output_type": "stream",
     "text": [
      "HELLO\n"
     ]
    }
   ],
   "source": [
    "#Question 21:  Write a Python function to convert a given string to all uppercase if it contains at least 2 uppercase \n",
    "#characters in the first 4 characters.\n",
    "\n",
    "str = input(\"Enter the String :\")\n",
    "num_upper = 0\n",
    "for letter in str[:4]: \n",
    "\tif letter.upper() == letter:\n",
    "\t\tnum_upper += 1\n",
    "if num_upper >= 2:\n",
    "\tprint(str.upper())\n",
    "# print(str)"
   ]
  },
  {
   "cell_type": "code",
   "execution_count": null,
   "id": "40cd25c1",
   "metadata": {},
   "outputs": [
    {
     "name": "stdout",
     "output_type": "stream",
     "text": [
      "Data Science\n",
      "\n"
     ]
    }
   ],
   "source": [
    "#Question 23:  Write a Python program to remove a newline in Python.\n",
    "\n",
    "str = 'Data Science\\n'\n",
    "str.rstrip()\n",
    "print(str)"
   ]
  },
  {
   "cell_type": "code",
   "execution_count": null,
   "id": "e8203678",
   "metadata": {},
   "outputs": [
    {
     "data": {
      "text/plain": [
       "True"
      ]
     },
     "execution_count": 12,
     "metadata": {},
     "output_type": "execute_result"
    }
   ],
   "source": [
    "#Question 24: Write a Python program to check whether a string starts with specified characters.\n",
    "\n",
    "str = 'Pranita'\n",
    "str.startswith('Pr')"
   ]
  },
  {
   "cell_type": "code",
   "execution_count": null,
   "id": "e97ee53f",
   "metadata": {},
   "outputs": [
    {
     "data": {
      "text/plain": [
       "'Pranita                                           '"
      ]
     },
     "execution_count": 15,
     "metadata": {},
     "output_type": "execute_result"
    }
   ],
   "source": [
    "#Question 26: Write a Python program to display formatted text (width=50) as output.\n",
    "\n",
    "text = 'Pranita'\n",
    "text.ljust(50)"
   ]
  },
  {
   "cell_type": "code",
   "execution_count": null,
   "id": "b27e774b",
   "metadata": {},
   "outputs": [
    {
     "data": {
      "text/plain": [
       "['Computers do not deal with characters, they deal with numbers (binary). \\n',\n",
       " '   Even though you may see characters on your screen,\\n',\n",
       " '   internally it is stored and manipulated as a combination of 0s and 1s.']"
      ]
     },
     "execution_count": 31,
     "metadata": {},
     "output_type": "execute_result"
    }
   ],
   "source": [
    "#Question 27:Write a Python program to remove existing indentation from all of the lines in a given text.\n",
    "\n",
    "str= '''Computers do not deal with characters, they deal with numbers (binary). \n",
    "        Even though you may see characters on your screen,\n",
    "        internally it is stored and manipulated as a combination of 0s and 1s.'''\n",
    "\n",
    "str.split(\"     \")\n",
    "str.split(\"     \")"
   ]
  },
  {
   "cell_type": "code",
   "execution_count": null,
   "id": "727f99a9",
   "metadata": {},
   "outputs": [
    {
     "name": "stdout",
     "output_type": "stream",
     "text": [
      "> This is line 1.\n",
      "> This is line 2.\n",
      "> And this is line 3.\n"
     ]
    }
   ],
   "source": [
    "#Question 28: Write a Python program to add a prefix text to all of the lines in a string\n",
    "\n",
    "def add_prefix_to_lines(text, prefix):\n",
    "    lines = text.split('\\n')\n",
    "    prefixed_lines = [prefix + line for line in lines]\n",
    "    result = '\\n'.join(prefixed_lines)\n",
    "    return result\n",
    "\n",
    "text = '''This is line 1.\n",
    "This is line 2.\n",
    "And this is line 3.'''\n",
    "\n",
    "prefix = '> '\n",
    "\n",
    "prefixed_text = add_prefix_to_lines(text, prefix)\n",
    "print(prefixed_text)\n"
   ]
  },
  {
   "cell_type": "code",
   "execution_count": null,
   "id": "552ae02f",
   "metadata": {},
   "outputs": [
    {
     "name": "stdout",
     "output_type": "stream",
     "text": [
      "\tThis is line 1.\n",
      "    This is line 2.\n",
      "    And this is line 3.\n"
     ]
    }
   ],
   "source": [
    "#Question 29:Write a Python program to set the indentation of the first line.\n",
    "\n",
    "def set_first_line_indentation(text, indentation):\n",
    "    lines = text.split('\\n')\n",
    "    if len(lines) > 0:\n",
    "        lines[0] = indentation + lines[0].lstrip()\n",
    "    result = '\\n'.join(lines)\n",
    "    return result\n",
    "\n",
    "\n",
    "text = '''This is line 1.\n",
    "    This is line 2.\n",
    "    And this is line 3.'''\n",
    "\n",
    "indentation = '\\t'\n",
    "\n",
    "indented_text = set_first_line_indentation(text, indentation)\n",
    "print(indented_text)\n"
   ]
  },
  {
   "cell_type": "code",
   "execution_count": null,
   "id": "2c0aca20",
   "metadata": {},
   "outputs": [
    {
     "name": "stdout",
     "output_type": "stream",
     "text": [
      "4.24\n",
      "8.32\n"
     ]
    }
   ],
   "source": [
    "#Question 30. Write a Python program to print the following floating numbers upto 2 decimal places.\n",
    "\n",
    "str = 4.237\n",
    "str1 = 8.3164\n",
    "\n",
    "print('{:.3}'.format(str))\n",
    "\n",
    "print('{:.3}'.format(str1))\n"
   ]
  },
  {
   "cell_type": "code",
   "execution_count": null,
   "id": "6547630e",
   "metadata": {},
   "outputs": [
    {
     "name": "stdout",
     "output_type": "stream",
     "text": [
      "+4.24\n",
      "+8.32\n"
     ]
    }
   ],
   "source": [
    "#Question 31. Write a Python program to print the following floating numbers upto 2 decimal places with a sign.\n",
    "str = 4.237\n",
    "str1 = 8.3164\n",
    "\n",
    "print('{:+.3}'.format(str))\n",
    "\n",
    "print('{:+.3}'.format(str1))"
   ]
  },
  {
   "cell_type": "code",
   "execution_count": null,
   "id": "09960f8e",
   "metadata": {},
   "outputs": [
    {
     "name": "stdout",
     "output_type": "stream",
     "text": [
      "4\n",
      "8\n"
     ]
    }
   ],
   "source": [
    "#Question 32:Write a Python program to print the following floating numbers with no decimal places\n",
    "str = 4.237\n",
    "str1 = 8.3164\n",
    "\n",
    "print('{:.0f}'.format(str))\n",
    "\n",
    "print('{:.0f}'.format(str1))\n",
    "\n"
   ]
  },
  {
   "cell_type": "code",
   "execution_count": null,
   "id": "ee2a1643",
   "metadata": {},
   "outputs": [
    {
     "data": {
      "text/plain": [
       "'0000000003'"
      ]
     },
     "execution_count": 35,
     "metadata": {},
     "output_type": "execute_result"
    }
   ],
   "source": [
    "#Question 33: Write a Python program to print the following integers with zeros on the left of specified width.\n",
    "\n",
    "x = '3'\n",
    "\n",
    "a=x.zfill(10)\n",
    "a"
   ]
  },
  {
   "cell_type": "code",
   "execution_count": null,
   "id": "55171e76",
   "metadata": {},
   "outputs": [
    {
     "name": "stdout",
     "output_type": "stream",
     "text": [
      "3****\n"
     ]
    }
   ],
   "source": [
    "#Question 34 :Write a Python program to print the following integers with '*' on the right of specified width.\n",
    "\n",
    "x = '3'\n",
    "print('{:*<5}'.format(x))"
   ]
  },
  {
   "cell_type": "code",
   "execution_count": null,
   "id": "a3ca1e04",
   "metadata": {},
   "outputs": [
    {
     "name": "stdout",
     "output_type": "stream",
     "text": [
      "Enter a Long Number: 12345678\n",
      "12,345,678\n"
     ]
    }
   ],
   "source": [
    "#Question 35: Write a Python program to display a number with a comma separator.\n",
    "\n",
    "number=int(input(\"Enter a Long Number: \"))\n",
    "print(\"{:,}\".format(number))"
   ]
  },
  {
   "cell_type": "code",
   "execution_count": 30,
   "id": "ee06887b",
   "metadata": {},
   "outputs": [
    {
     "name": "stdout",
     "output_type": "stream",
     "text": [
      "50%\n"
     ]
    }
   ],
   "source": [
    "#Question 36: Write a Python program to format a number with a percentage.\n",
    "\n",
    "number= 0.50\n",
    "print(\"{:.0%}\".format(number))\n"
   ]
  },
  {
   "cell_type": "code",
   "execution_count": 31,
   "id": "962b1bc4",
   "metadata": {},
   "outputs": [
    {
     "name": "stdout",
     "output_type": "stream",
     "text": [
      "333       \n",
      "       333\n",
      "   333    \n"
     ]
    }
   ],
   "source": [
    "#Question 37:Write a Python program to display a number in left, right and center aligned of width 10\n",
    "\n",
    "number = 333\n",
    "\n",
    "print('{:<10}'.format(number))\n",
    "print('{:>10}'.format(number))\n",
    "print('{:^10}'.format(number))\n"
   ]
  },
  {
   "cell_type": "code",
   "execution_count": 32,
   "id": "996111e3",
   "metadata": {},
   "outputs": [
    {
     "name": "stdout",
     "output_type": "stream",
     "text": [
      "The count is: 2\n"
     ]
    }
   ],
   "source": [
    "#Question 38: Write a Python program to count occurrences of a substring in a string.\n",
    "#method 1\n",
    "\n",
    "string = input (\"Enter any sting\")\n",
    "substring= input(\"Word frequency check\")\n",
    "\n",
    "count = string.count(substring)\n",
    "print(\"The count is:\", count)\n"
   ]
  },
  {
   "cell_type": "code",
   "execution_count": 33,
   "id": "1ecd21dd",
   "metadata": {},
   "outputs": [
    {
     "name": "stdout",
     "output_type": "stream",
     "text": [
      "The count is: Data\n"
     ]
    }
   ],
   "source": [
    "#method 2\n",
    "string = \"I am a Data Scientist. I have to work with Data.\"\n",
    "count = 'Data'\n",
    "\n",
    "for i in string:\n",
    "    if i== count:\n",
    "        count+=1\n",
    "    else:\n",
    "        pass\n",
    "print(\"The count is:\", count)\n",
    "        \n"
   ]
  },
  {
   "cell_type": "code",
   "execution_count": null,
   "id": "709bfd49",
   "metadata": {},
   "outputs": [
    {
     "name": "stdout",
     "output_type": "stream",
     "text": [
      ".yrt lliw ohw yeht ot elbissopmi gnihton si erehT\n"
     ]
    }
   ],
   "source": [
    "#Question 39: Write a Python program to reverse a string.\n",
    "#logic:= sentence,split,reverse,join\n",
    "\n",
    "a= 'There is nothing impossible to they who will try.'\n",
    "print(a[::-1])\n",
    "\n"
   ]
  },
  {
   "cell_type": "code",
   "execution_count": null,
   "id": "2618b3a9",
   "metadata": {},
   "outputs": [
    {
     "name": "stdout",
     "output_type": "stream",
     "text": [
      "['erehT', 'si', 'gnihton', 'elbissopmi', 'ot', 'yeht', 'ohw', 'lliw', '.yrt']\n"
     ]
    }
   ],
   "source": [
    "#Question 40: Write a Python program to reverse words in a string.\n",
    "\n",
    "a = 'There is nothing impossible to they who will try.'\n",
    "\n",
    "words = a.split()\n",
    "rev_a =[]\n",
    "for i in words:\n",
    "    rev_a.append(i[::-1])\n",
    "\n",
    "print(rev_a)"
   ]
  },
  {
   "cell_type": "code",
   "execution_count": 34,
   "id": "b51b4090",
   "metadata": {},
   "outputs": [
    {
     "data": {
      "text/plain": [
       "'Pranit'"
      ]
     },
     "execution_count": 34,
     "metadata": {},
     "output_type": "execute_result"
    }
   ],
   "source": [
    "#Question 41: Write a Python program to strip a set of characters from a string.\n",
    "\n",
    "b = 'aaaaaeeeeiiiiPranitaaaaoooouuuu'\n",
    "\n",
    "b.strip(\"aeiou\")"
   ]
  },
  {
   "cell_type": "code",
   "execution_count": 36,
   "id": "334a83f9",
   "metadata": {},
   "outputs": [
    {
     "name": "stdout",
     "output_type": "stream",
     "text": [
      "4\n"
     ]
    }
   ],
   "source": [
    "#Question 42:Write a Python program to count repeated characters in a string.\n",
    "\n",
    "str= 'thequickbrownfoxjumpsoverthelazydog'\n",
    "c = input('Enter character to check frequency:')\n",
    "count=0\n",
    "for i in str:\n",
    "    if i==c:\n",
    "        count+=1\n",
    "print(count)"
   ]
  },
  {
   "cell_type": "code",
   "execution_count": null,
   "id": "1ad99add",
   "metadata": {},
   "outputs": [
    {
     "name": "stdout",
     "output_type": "stream",
     "text": [
      "The area of the rectangle is 1256.66cm2, The volume of the cylinder is 1254.725cm3\n"
     ]
    }
   ],
   "source": [
    "#Question 43: Write a Python program to print the square and cube symbol in the area of a rectangle and volume of a cylinder.\n",
    "\n",
    "x = '1256.66cm2'\n",
    "y = '1254.725cm3'\n",
    "\n",
    "a = \"The area of the rectangle is {}, The volume of the cylinder is {}\".format(x,y)\n",
    "print(a)"
   ]
  },
  {
   "cell_type": "code",
   "execution_count": 37,
   "id": "c07c5a0a",
   "metadata": {},
   "outputs": [
    {
     "name": "stdout",
     "output_type": "stream",
     "text": [
      "Current character w Position 0\n",
      "Current character 3 Position 1\n",
      "Current character r Position 2\n",
      "Current character e Position 3\n",
      "Current character s Position 4\n",
      "Current character o Position 5\n",
      "Current character u Position 6\n",
      "Current character r Position 7\n",
      "Current character c Position 8\n",
      "Current character e Position 9\n"
     ]
    }
   ],
   "source": [
    "#Question 44. Write a Python program to print the index of the character in a string.\n",
    "\n",
    "str = 'w3resource'\n",
    "\n",
    "for i,j in enumerate(str):\n",
    "    print(\"Current character\",j,\"Position\",i)\n"
   ]
  },
  {
   "cell_type": "code",
   "execution_count": 38,
   "id": "87a4177b",
   "metadata": {},
   "outputs": [
    {
     "data": {
      "text/plain": [
       "True"
      ]
     },
     "execution_count": 38,
     "metadata": {},
     "output_type": "execute_result"
    }
   ],
   "source": [
    "#Question 45.Write a Python program to check whether a string contains all letters of the alphabet.\n",
    "\n",
    "str = \"Datascience\"\n",
    "str.isalpha()"
   ]
  },
  {
   "cell_type": "code",
   "execution_count": null,
   "id": "40d5c03c",
   "metadata": {
    "scrolled": true
   },
   "outputs": [],
   "source": [
    "#Question 46: Write a Python program to convert a given string into a list of words.\n",
    "str = \"The quick brown fox jumps over the lazy dog\"\n",
    "print(str.split(' '))"
   ]
  },
  {
   "cell_type": "code",
   "execution_count": 39,
   "id": "6b38b486",
   "metadata": {},
   "outputs": [
    {
     "name": "stdout",
     "output_type": "stream",
     "text": [
      "praNITA\n"
     ]
    }
   ],
   "source": [
    "#Question 47. Write a Python program to lowercase first n characters in a string.\n",
    "\n",
    "str = \"PRANITA\"\n",
    "print(str[:3].lower() + str[3::])"
   ]
  },
  {
   "cell_type": "code",
   "execution_count": 40,
   "id": "4c203199",
   "metadata": {},
   "outputs": [
    {
     "name": "stdout",
     "output_type": "stream",
     "text": [
      "32.054.23\n"
     ]
    }
   ],
   "source": [
    "#Question 48. Write a Python program to swap comma and dot in a string.\n",
    "\n",
    "str = \"32.054,23\"\n",
    "\n",
    "print(str.replace(',','.'))"
   ]
  },
  {
   "cell_type": "code",
   "execution_count": 41,
   "id": "1e1b6cb4",
   "metadata": {},
   "outputs": [
    {
     "name": "stdout",
     "output_type": "stream",
     "text": [
      "11\n"
     ]
    }
   ],
   "source": [
    "#Question 49.Write a Python program to count and display the vowels of a given text.\n",
    "\n",
    "a = input(\"Enter the string\")\n",
    "vowels =('a','e','i','o','u','A','E','I','U','O')\n",
    "count=0\n",
    "\n",
    "for i in a:\n",
    "    if i in vowels:\n",
    "        count+=1\n",
    "print(count)"
   ]
  },
  {
   "cell_type": "code",
   "execution_count": null,
   "id": "49fe627f",
   "metadata": {},
   "outputs": [
    {
     "data": {
      "text/plain": [
       "['The,quick,brown,fox,jumps,over,the,lazy', 'dog']"
      ]
     },
     "execution_count": 37,
     "metadata": {},
     "output_type": "execute_result"
    }
   ],
   "source": [
    "#Question 50. Write a Python program to split a string on the last occurrence of the delimiter.\n",
    "\n",
    "str = \"The,quick,brown,fox,jumps,over,the,lazy,dog\"\n",
    "a=str.rsplit(\",\", 1)\n",
    "a\n"
   ]
  },
  {
   "cell_type": "code",
   "execution_count": 42,
   "id": "309beb48",
   "metadata": {},
   "outputs": [
    {
     "name": "stdout",
     "output_type": "stream",
     "text": [
      "q i c k b w n f x j m p s v l a z y d g "
     ]
    }
   ],
   "source": [
    "#Question 51.Write a Python program to find the first non-repeating character in given string.\n",
    "\n",
    "\n",
    "string = 'thequickbrownfoxjumpsoverthelazydog'\n",
    "\n",
    "for i in string:\n",
    "    count = 0\n",
    "    for j in string:\n",
    "        if i == j:\n",
    "            count+=1\n",
    "        if count > 1:\n",
    "            break\n",
    "    if count == 1:\n",
    "        print(i,end = \" \")"
   ]
  },
  {
   "cell_type": "code",
   "execution_count": 43,
   "id": "e92b717d",
   "metadata": {},
   "outputs": [
    {
     "name": "stdout",
     "output_type": "stream",
     "text": [
      "{'n', 'i'}\n"
     ]
    }
   ],
   "source": [
    "#Question  53. Write a Python program to find the first repeated character in a given string.\n",
    "\n",
    "str = 'indian'\n",
    "\n",
    "repeat= set()\n",
    "\n",
    "for i in str:\n",
    "    if (str.count(i)>1):\n",
    "        repeat.add(i)\n",
    "print(repeat)"
   ]
  },
  {
   "cell_type": "code",
   "execution_count": 44,
   "id": "520dedad",
   "metadata": {
    "scrolled": true
   },
   "outputs": [
    {
     "data": {
      "text/plain": [
       "'PRANITA'"
      ]
     },
     "execution_count": 44,
     "metadata": {},
     "output_type": "execute_result"
    }
   ],
   "source": [
    "#Question  57.Write a Python program to remove spaces from a given string.\n",
    "\n",
    "str = 'P R A N I T A'\n",
    "str.replace(' ','')"
   ]
  },
  {
   "cell_type": "code",
   "execution_count": 45,
   "id": "cd77c6f7",
   "metadata": {},
   "outputs": [
    {
     "name": "stdout",
     "output_type": "stream",
     "text": [
      " \n"
     ]
    }
   ],
   "source": [
    "#Question  58.Write a Python program to move spaces to the front of a given string.\n",
    "\n",
    "str = 'Pranita Zaware'\n",
    "character = ' '\n",
    "space = str.count(' ')\n",
    "new_str = ' '*space\n",
    "new_str = ' '.join(character)\n",
    "print(new_str)"
   ]
  },
  {
   "cell_type": "code",
   "execution_count": 46,
   "id": "607071ff",
   "metadata": {},
   "outputs": [
    {
     "name": "stdout",
     "output_type": "stream",
     "text": [
      "12\n"
     ]
    }
   ],
   "source": [
    "#Question  59.Write a Python program to find the maximum occurring character in a given string.\n",
    "\n",
    "str = 'Good Morning'\n",
    "count = 0\n",
    "\n",
    "for i in str:\n",
    "    if len(str)>3:\n",
    "        count+=1\n",
    "print(count)"
   ]
  }
 ],
 "metadata": {
  "kernelspec": {
   "display_name": "Python 3.9.13 ('base')",
   "language": "python",
   "name": "python3"
  },
  "language_info": {
   "codemirror_mode": {
    "name": "ipython",
    "version": 3
   },
   "file_extension": ".py",
   "mimetype": "text/x-python",
   "name": "python",
   "nbconvert_exporter": "python",
   "pygments_lexer": "ipython3",
   "version": "3.9.13"
  },
  "vscode": {
   "interpreter": {
    "hash": "2043299c89c8cd0b4d1a6f5cf4529bd58e6a4e0fe3181a25e0d328c821cdc5c5"
   }
  }
 },
 "nbformat": 4,
 "nbformat_minor": 5
}
