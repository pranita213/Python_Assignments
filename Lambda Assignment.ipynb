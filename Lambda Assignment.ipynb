{
 "cells": [
  {
   "cell_type": "code",
   "execution_count": 1,
   "id": "7b1ae1e8",
   "metadata": {},
   "outputs": [
    {
     "name": "stdout",
     "output_type": "stream",
     "text": [
      "25\n"
     ]
    }
   ],
   "source": [
    "#Example 1: Write a Python program to create a lambda function that adds 15 to a given number passed in as an argument, \n",
    "#also create a lambda function that multiplies argument x with argument y and print the result.    \n",
    "#Sample Output:25v& 48\n",
    "\n",
    "x= lambda x : x+15\n",
    "print(x(10))"
   ]
  },
  {
   "cell_type": "code",
   "execution_count": 2,
   "id": "5332ef31",
   "metadata": {},
   "outputs": [
    {
     "name": "stdout",
     "output_type": "stream",
     "text": [
      "48\n"
     ]
    }
   ],
   "source": [
    "x= lambda x,y : x*y\n",
    "print(x(12,4))"
   ]
  },
  {
   "cell_type": "code",
   "execution_count": 3,
   "id": "3a9fb142",
   "metadata": {},
   "outputs": [
    {
     "name": "stdout",
     "output_type": "stream",
     "text": [
      "30\n"
     ]
    }
   ],
   "source": [
    "#Example 2:Write a Python program to create a function that takes one argument, and that argument will be multiplied with\n",
    "#an unknown given number.\n",
    "#Sample Output:\n",
    "#Double the number of 15 = 30\n",
    "#Triple the number of 15 = 45\n",
    "#Quadruple the number of 15 = 60\n",
    "#Quintuple the number 15 = 75\n",
    "\n",
    "x= lambda x : x*15\n",
    "print(x(2))"
   ]
  },
  {
   "cell_type": "code",
   "execution_count": 4,
   "id": "62bdaee8",
   "metadata": {},
   "outputs": [
    {
     "name": "stdout",
     "output_type": "stream",
     "text": [
      "45\n"
     ]
    }
   ],
   "source": [
    "x= lambda x : x*15\n",
    "print(x(3))"
   ]
  },
  {
   "cell_type": "code",
   "execution_count": 5,
   "id": "f1cbcdee",
   "metadata": {},
   "outputs": [
    {
     "name": "stdout",
     "output_type": "stream",
     "text": [
      "60\n"
     ]
    }
   ],
   "source": [
    "x= lambda x : x*15\n",
    "print(x(4))"
   ]
  },
  {
   "cell_type": "code",
   "execution_count": 6,
   "id": "011dd0d3",
   "metadata": {},
   "outputs": [
    {
     "name": "stdout",
     "output_type": "stream",
     "text": [
      "75\n"
     ]
    }
   ],
   "source": [
    "x= lambda x : x*15\n",
    "print(x(5))"
   ]
  },
  {
   "cell_type": "code",
   "execution_count": 7,
   "id": "3011ec2c",
   "metadata": {},
   "outputs": [
    {
     "name": "stdout",
     "output_type": "stream",
     "text": [
      "[('Social sciences', 82), ('English', 88), ('Science', 90), ('Maths', 97)]\n"
     ]
    }
   ],
   "source": [
    "#Example 3. Write a Python program to sort a list of tuples using Lambda.\n",
    "#Original list of tuples:\n",
    "#[('English', 88), ('Science', 90), ('Maths', 97), ('Social sciences', 82)]\n",
    "#Sorting the List of Tuples:\n",
    "#[('Social sciences', 82), ('English', 88), ('Science', 90), ('Maths', 97)]\n",
    "\n",
    "marks = [('English', 88), ('Science', 90), ('Maths', 97), ('Social sciences', 82)]\n",
    "marks.sort(key =lambda x : x[1])\n",
    "print(marks)\n"
   ]
  },
  {
   "cell_type": "code",
   "execution_count": 3,
   "id": "8ffd8337",
   "metadata": {},
   "outputs": [
    {
     "name": "stdout",
     "output_type": "stream",
     "text": [
      "[{'make': 'Mi Max', 'model': 2, 'color': 'Gold'}, {'make': 'Nokia', 'model': 216, 'color': 'Black'}, {'make': 'Samsung', 'model': 7, 'color': 'Blue'}]\n"
     ]
    }
   ],
   "source": [
    "#Example 4.Write a Python program to sort a list of dictionaries using Lambda. \n",
    "\n",
    "original_list = [\n",
    "    {'make': 'Nokia', 'model': 216, 'color': 'Black'},\n",
    "    {'make': 'Mi Max', 'model': 2, 'color': 'Gold'},\n",
    "    {'make': 'Samsung', 'model': 7, 'color': 'Blue'}\n",
    "]\n",
    "\n",
    "sorted_list = sorted(original_list, key=lambda x: x['make'])\n",
    "print(sorted_list)"
   ]
  },
  {
   "cell_type": "code",
   "execution_count": 6,
   "id": "e2ae5038",
   "metadata": {},
   "outputs": [
    {
     "name": "stdout",
     "output_type": "stream",
     "text": [
      "Even Numbers [2, 4, 6, 8, 10]\n",
      "Odd Numbers [1, 3, 5, 7, 9]\n"
     ]
    }
   ],
   "source": [
    "#Example 5.Write a Python program to filter a list of integers using Lambda. \n",
    "my_list = [1, 2, 3, 4, 5, 6, 7, 8, 9, 10]\n",
    "\n",
    "even_num = list(filter(lambda x: x%2==0,my_list))\n",
    "print(\"Even Numbers\", even_num)\n",
    "\n",
    "odd_num=list(filter(lambda x: x%2!=0,my_list))\n",
    "print(\"Odd Numbers\", odd_num)"
   ]
  },
  {
   "cell_type": "code",
   "execution_count": 8,
   "id": "ecd6908e",
   "metadata": {},
   "outputs": [
    {
     "name": "stdout",
     "output_type": "stream",
     "text": [
      "Square of Numbers [1, 4, 9, 16, 25, 36, 49, 64, 81, 100]\n",
      "Cube of Numbers [1, 8, 27, 64, 125, 216, 343, 512, 729, 1000]\n"
     ]
    }
   ],
   "source": [
    "#Example 6. Write a Python program to square and cube every number in a given list of integers using Lambda.\n",
    "num = [1, 2, 3, 4, 5, 6, 7, 8, 9, 10]\n",
    "\n",
    "square = list(map(lambda x : x**2,num))\n",
    "print(\"Square of Numbers\", square)\n",
    "\n",
    "cube = list(map(lambda x:x**3,num))\n",
    "print(\"Cube of Numbers\", cube)"
   ]
  },
  {
   "cell_type": "code",
   "execution_count": 9,
   "id": "a0f17ef6",
   "metadata": {},
   "outputs": [
    {
     "name": "stdout",
     "output_type": "stream",
     "text": [
      "True\n",
      "False\n"
     ]
    }
   ],
   "source": [
    "#Example 7.Write a Python program to find if a given string starts with a given character using Lambda. Go to the editor\n",
    "#Sample Output:True & False\n",
    "\n",
    "starts_with=lambda x:True if x.startswith('P') else False\n",
    "print(starts_with('Pranita'))\n",
    "starts_with=lambda x:True if x.startswith('P') else False\n",
    "print(starts_with('Scientist'))\n"
   ]
  },
  {
   "cell_type": "code",
   "execution_count": 11,
   "id": "862f09e2",
   "metadata": {},
   "outputs": [
    {
     "name": "stdout",
     "output_type": "stream",
     "text": [
      "{'year': '2023', 'month': '05', 'day': '06', 'time': '22:37:21'}\n"
     ]
    }
   ],
   "source": [
    "#Example 8.Write a Python program to extract year, month, date and time using Lambda. \n",
    "\n",
    "from datetime import datetime\n",
    "\n",
    "now = datetime.now()\n",
    "\n",
    "extracted = lambda dt: {'year': dt.strftime('%Y'), \n",
    "                        'month': dt.strftime('%m'),\n",
    "                        'day': dt.strftime('%d'),\n",
    "                        'time': dt.strftime('%H:%M:%S')}\n",
    "\n",
    "result = extracted(now)\n",
    "print(result)"
   ]
  },
  {
   "cell_type": "code",
   "execution_count": 12,
   "id": "08f38f95",
   "metadata": {},
   "outputs": [
    {
     "name": "stdout",
     "output_type": "stream",
     "text": [
      "True\n"
     ]
    }
   ],
   "source": [
    "#Example 9.Write a Python program to check whether a given string is number or not using Lambda. \n",
    "\n",
    "x=input(' Enter the string  :')\n",
    "res=lambda x:x.isnumeric()\n",
    "print(res(x))"
   ]
  },
  {
   "cell_type": "code",
   "execution_count": 13,
   "id": "c6603706",
   "metadata": {},
   "outputs": [
    {
     "name": "stdout",
     "output_type": "stream",
     "text": [
      "[0, 1]\n"
     ]
    }
   ],
   "source": [
    "#Example 10. Write a Python program to create Fibonacci series upto n using Lambda.\n",
    "\n",
    "from functools import reduce\n",
    "fib = lambda n: reduce(lambda x, _: x+[x[-1]+x[-2]], range(n-2), [0, 1])\n",
    "print(fib(2))\n"
   ]
  },
  {
   "cell_type": "code",
   "execution_count": 14,
   "id": "76d70c2a",
   "metadata": {},
   "outputs": [
    {
     "name": "stdout",
     "output_type": "stream",
     "text": [
      "[0, 1, 1, 2, 3]\n"
     ]
    }
   ],
   "source": [
    "from functools import reduce\n",
    "fib = lambda n: reduce(lambda x, _: x+[x[-1]+x[-2]], range(n-2), [0, 1])\n",
    "print(fib(5))"
   ]
  },
  {
   "cell_type": "code",
   "execution_count": 15,
   "id": "5c17161b",
   "metadata": {},
   "outputs": [
    {
     "name": "stdout",
     "output_type": "stream",
     "text": [
      "[0, 1, 1, 2, 3, 5]\n"
     ]
    }
   ],
   "source": [
    "from functools import reduce\n",
    "fib = lambda n: reduce(lambda x, _: x+[x[-1]+x[-2]], range(n-2), [0, 1])\n",
    "print(fib(6))"
   ]
  },
  {
   "cell_type": "code",
   "execution_count": 16,
   "id": "16818bd2",
   "metadata": {},
   "outputs": [
    {
     "name": "stdout",
     "output_type": "stream",
     "text": [
      "[0, 1, 1, 2, 3, 5, 8, 13, 21]\n"
     ]
    }
   ],
   "source": [
    "from functools import reduce\n",
    "fib = lambda n: reduce(lambda x, _: x+[x[-1]+x[-2]], range(n-2), [0, 1])\n",
    "print(fib(9))"
   ]
  },
  {
   "cell_type": "code",
   "execution_count": 17,
   "id": "2e896ac6",
   "metadata": {},
   "outputs": [
    {
     "name": "stdout",
     "output_type": "stream",
     "text": [
      "[1, 2, 8, 9]\n"
     ]
    }
   ],
   "source": [
    "#Example 11.Write a Python program to find intersection of two given arrays using Lambda. Go to the editor\n",
    "#Original arrays:\n",
    "#[1, 2, 3, 5, 7, 8, 9, 10]\n",
    "#[1, 2, 4, 8, 9]\n",
    "#Intersection of the said arrays: [1, 2, 8, 9]\n",
    "\n",
    "array_1=[1, 2, 3, 5, 7, 8, 9, 10]\n",
    "array_2=[1, 2, 4, 8, 9]\n",
    "\n",
    "x=list(filter(lambda x:x in array_1,array_2))\n",
    "print(x)\n"
   ]
  },
  {
   "cell_type": "code",
   "execution_count": 18,
   "id": "849d0fd0",
   "metadata": {},
   "outputs": [
    {
     "name": "stdout",
     "output_type": "stream",
     "text": [
      "[2, 5, 7, 8, 9, -1, -3, -10]\n"
     ]
    }
   ],
   "source": [
    "#question 12. Write a Python program to rearrange positive and negative numbers in a given array using Lambda.\n",
    "\n",
    "\n",
    "a=[-1, 2, -3, 5, 7, 8, 9, -10] \n",
    "result1=list(filter(lambda x:x >0,a))\n",
    "result2=list(filter(lambda x:x <0,a))\n",
    "result1.extend(result2)\n",
    "print(result1)"
   ]
  },
  {
   "cell_type": "code",
   "execution_count": 19,
   "id": "d68629ba",
   "metadata": {},
   "outputs": [
    {
     "name": "stdout",
     "output_type": "stream",
     "text": [
      "Even Numbers are:  3\n",
      "Odd Numbers are:  5\n"
     ]
    }
   ],
   "source": [
    "#Example 13. Write a Python program to count the even, odd numbers in a given array of integers using Lambda. \n",
    "#Original arrays:\n",
    "#[1, 2, 3, 5, 7, 8, 9, 10]\n",
    "#Number of even numbers in the above array: 3\n",
    "#Number of odd numbers in the above array: 5\n",
    "\n",
    "num  = [1, 2, 3, 5, 7, 8, 9, 10]\n",
    "even_num =len(list(filter(lambda x:x%2==0,num)))\n",
    "print('Even Numbers are: ', even_num)\n",
    "odd_num =len(list(filter(lambda x:x%2!=0,num)))\n",
    "print('Odd Numbers are: ',odd_num)  "
   ]
  },
  {
   "cell_type": "code",
   "execution_count": 20,
   "id": "2bddd3de",
   "metadata": {},
   "outputs": [
    {
     "name": "stdout",
     "output_type": "stream",
     "text": [
      "Number of even numbers in the above array\n"
     ]
    },
    {
     "data": {
      "text/plain": [
       "3"
      ]
     },
     "execution_count": 20,
     "metadata": {},
     "output_type": "execute_result"
    }
   ],
   "source": [
    "#method 2\n",
    "\n",
    "a=[1, 2, 3, 5, 7, 8, 9, 10]\n",
    "print('Number of even numbers in the above array')\n",
    "list(map(lambda x:x%2==0,a)).count(True)"
   ]
  },
  {
   "cell_type": "code",
   "execution_count": 21,
   "id": "9a34fd44",
   "metadata": {},
   "outputs": [
    {
     "name": "stdout",
     "output_type": "stream",
     "text": [
      "['Sunday', 'Monday', 'Friday']\n"
     ]
    }
   ],
   "source": [
    "#Example 14. Write a Python program to find the values of length six in a given list using Lambda. \n",
    "#weekdays = ['Sunday','Monday','Tuesday','Wednesday','Thursday','Friday','Saturday']\n",
    "#Sample Output:\n",
    "#Monday\n",
    "#Friday\n",
    "#Sunday\n",
    "\n",
    "weekdays = ['Sunday','Monday','Tuesday','Wednesday','Thursday','Friday','Saturday']\n",
    "\n",
    "days = list(filter(lambda x:len(x)==6, weekdays))\n",
    "print(days)"
   ]
  },
  {
   "cell_type": "code",
   "execution_count": 22,
   "id": "e3e3b3d3",
   "metadata": {},
   "outputs": [
    {
     "name": "stdout",
     "output_type": "stream",
     "text": [
      "[5, 7, 9]\n"
     ]
    }
   ],
   "source": [
    "#Example 15. Write a Python program to add two given lists using map and lambda. \n",
    "#Original list:\n",
    "#[1, 2, 3]\n",
    "#[4, 5, 6]\n",
    "#Result: after adding two list\n",
    "#[5, 7, 9]\n",
    "\n",
    "a = [1,2,3]\n",
    "b = [4,5,6]\n",
    "\n",
    "x = list(map(lambda a,b : a+b, a,b))\n",
    "print(x)"
   ]
  },
  {
   "cell_type": "code",
   "execution_count": 23,
   "id": "dcabe2d3",
   "metadata": {},
   "outputs": [
    {
     "name": "stdout",
     "output_type": "stream",
     "text": [
      "[['B BOSE', 3.0], ['N KAR', 2.0], ['S ROY', 1.0], ['C DUTTA', 1.0], ['G GHOSH', 1.0]]\n",
      "Name of the student : N KAR \n",
      "Second lowest grade : 2.0\n"
     ]
    }
   ],
   "source": [
    "#Example 16. Write a Python program to find the second lowest grade of any student(s) from the given names and grades of each\n",
    "#student using lists and lambda. Input number of students, names and grades of each student. \n",
    "#Input number of students: 5\n",
    "#Names and Grades of all students:\n",
    "#[['S ROY', 1.0], ['B BOSE', 3.0], ['N KAR', 2.0], ['C DUTTA', 1.0], ['G GHOSH', 1.0]]\n",
    "\n",
    "\n",
    "names_grades=[['S ROY', 1.0], ['B BOSE', 3.0], ['N KAR', 2.0], ['C DUTTA', 1.0], ['G GHOSH', 1.0]]\n",
    "    \n",
    "names_grades.sort(key=lambda x: x[-1],reverse=True)\n",
    "print(names_grades)\n",
    "if names_grades[0][-1]>names_grades[1][-1]:\n",
    "    print('Name of the student :',names_grades[1][0],'\\nSecond lowest grade :',names_grades[1][-1])"
   ]
  },
  {
   "cell_type": "code",
   "execution_count": 24,
   "id": "c5664456",
   "metadata": {},
   "outputs": [
    {
     "data": {
      "text/plain": [
       "['N KAR', 2.0]"
      ]
     },
     "execution_count": 24,
     "metadata": {},
     "output_type": "execute_result"
    }
   ],
   "source": [
    "#method 2\n",
    "\n",
    "names_grades=[['S ROY', 1.0], ['B BOSE', 3.0], ['N KAR', 2.0], ['C DUTTA', 1.0], ['G GHOSH', 1.0]]\n",
    "    \n",
    "names_grades.sort(key=lambda x: x[1],reverse=True)\n",
    "names_grades[1]"
   ]
  },
  {
   "cell_type": "code",
   "execution_count": 25,
   "id": "8d746816",
   "metadata": {},
   "outputs": [
    {
     "name": "stdout",
     "output_type": "stream",
     "text": [
      "[19, 65, 57, 39, 152, 190]\n"
     ]
    }
   ],
   "source": [
    "#Example 17.Write a Python program to find numbers divisible by nineteen or thirteen from a list of numbers using Lambda.\n",
    "\n",
    "Original_list= [19, 65, 57, 39, 152, 639, 121, 44, 90, 190]\n",
    "\n",
    "x = list(filter(lambda x : x%19 ==0 or x%13==0,Original_list))\n",
    "print(x)"
   ]
  },
  {
   "cell_type": "code",
   "execution_count": 26,
   "id": "d2940c2b",
   "metadata": {},
   "outputs": [
    {
     "name": "stdout",
     "output_type": "stream",
     "text": [
      "['php', 'aaa']\n"
     ]
    }
   ],
   "source": [
    "#Example 18. Write a Python program to find palindromes in a given list of strings using Lambda.\n",
    "\n",
    "Orginal = ['php', 'w3r', 'Python', 'abcd', 'Java', 'aaa']\n",
    "\n",
    "x = list(filter(lambda x : x==x[::-1],Orginal))\n",
    "print(x)"
   ]
  },
  {
   "cell_type": "code",
   "execution_count": 28,
   "id": "e47b3629",
   "metadata": {},
   "outputs": [
    {
     "name": "stdout",
     "output_type": "stream",
     "text": [
      "['sdf', '23', 'safs8', '5', 'sdfsd8', 'sdfs', '56', '21sfs', '20', '5']\n",
      "[5, 5, 20, 23, 56]\n",
      "(<function <lambda> at 0x000001BF6C7BCCA0>, None)\n"
     ]
    }
   ],
   "source": [
    "#Example 20. Write a Python program to find the numbers of a given string and store them in a list, display the numbers \n",
    "#which are bigger than the length of the list in sorted form. Use lambda function to solve the problem. \n",
    "\n",
    "str= 'sdf 23 safs8 5 sdfsd8 sdfs 56 21sfs 20 5'\n",
    "\n",
    "list = str.split()\n",
    "print(list)\n",
    "length = len(list)\n",
    "num = sorted([int(x) for x in list if x.isdigit()])\n",
    "z=print(num)\n",
    "\n",
    "a =lambda x:x<len(x),z\n",
    "print(a)\n"
   ]
  },
  {
   "cell_type": "code",
   "execution_count": 1,
   "id": "f1b1bc1f",
   "metadata": {},
   "outputs": [
    {
     "name": "stdout",
     "output_type": "stream",
     "text": [
      "[4, 8, 12, 18, 22]\n"
     ]
    }
   ],
   "source": [
    "#Example 21.Write a Python program that multiply each number of given list with a given number using lambda function. \n",
    "\n",
    "num = [2, 4, 6, 9, 11]\n",
    "n = 2\n",
    "\n",
    "result = list(map(lambda x: x * n, num))\n",
    "print(result)"
   ]
  },
  {
   "cell_type": "code",
   "execution_count": 2,
   "id": "0d161cf2",
   "metadata": {},
   "outputs": [
    {
     "name": "stdout",
     "output_type": "stream",
     "text": [
      "[4, 16, 36, 81, 121]\n"
     ]
    }
   ],
   "source": [
    "#method 2\n",
    "num= [2, 4, 6, 9, 11]\n",
    "\n",
    "res=list(map(lambda x:x*(int(input(\"Enter a number : \"))),num))\n",
    "  \n",
    "print(res)"
   ]
  },
  {
   "cell_type": "code",
   "execution_count": 11,
   "id": "89a3bc17",
   "metadata": {},
   "outputs": [
    {
     "name": "stdout",
     "output_type": "stream",
     "text": [
      "['Pranita', 'Swapnil', 'Sakshi']\n",
      "20\n"
     ]
    }
   ],
   "source": [
    "#Example 22. Write a Python program that sum the length of the names of a given list of names after removing the names that \n",
    "#starts with an lowercase letter.\n",
    "\n",
    "names= ['Pranita','pratik','Swapnil','tanu','Sakshi','sarthak']\n",
    "\n",
    "x = list(filter(lambda x : x[0].isupper(),names))\n",
    "print(x)\n",
    "y = len(''.join(x))\n",
    "print(y)"
   ]
  },
  {
   "cell_type": "code",
   "execution_count": 12,
   "id": "afbd77a9",
   "metadata": {},
   "outputs": [
    {
     "name": "stdout",
     "output_type": "stream",
     "text": [
      "['Pranita', 'Swapnil', 'Sakshi']\n"
     ]
    }
   ],
   "source": [
    "names= ['Pranita','pratik','Swapnil','tanu','Sakshi','sarthak']\n",
    "\n",
    "x = list(filter(lambda x : x[0].isupper(),names))\n",
    "print(x)"
   ]
  },
  {
   "cell_type": "code",
   "execution_count": 15,
   "id": "d1f6360c",
   "metadata": {},
   "outputs": [
    {
     "name": "stdout",
     "output_type": "stream",
     "text": [
      "[2, 4, 11, 14, 17]\n",
      "Sum of positive number is:  48\n",
      "[-6, -9, -12, -5]\n",
      "Sum of negative number is:  -32\n"
     ]
    }
   ],
   "source": [
    "#Example 23. Write a Python program to calculate the sum of the positive and negative numbers of a given list of numbers using\n",
    "#lambda function. \n",
    "\n",
    "num= [2, 4, -6, -9, 11, -12, 14, -5, 17]\n",
    "\n",
    "a = list(filter(lambda x:x>0,num))\n",
    "print(a)\n",
    "print('Sum of positive number is: ',sum(a))\n",
    "\n",
    "b= list(filter(lambda x:x<0,num))\n",
    "print(b)\n",
    "print('Sum of negative number is: ',sum(b))"
   ]
  },
  {
   "cell_type": "code",
   "execution_count": 33,
   "id": "90b5005d",
   "metadata": {},
   "outputs": [
    {
     "data": {
      "text/plain": [
       "[['green', 'orange'], ['black', 'white'], ['black', 'orange', 'white']]"
      ]
     },
     "execution_count": 33,
     "metadata": {},
     "output_type": "execute_result"
    }
   ],
   "source": [
    "#Example 27. Write a Python program to sort each sublist of strings in a given list of lists using lambda.\n",
    "\n",
    "my_list = [['green', 'orange'], ['black', 'white'], ['white', 'black', 'orange']]\n",
    "\n",
    "my_list=[sorted(x, key = lambda x:x[0]) for x in my_list]\n",
    "my_list"
   ]
  },
  {
   "cell_type": "code",
   "execution_count": 35,
   "id": "5d4fde62",
   "metadata": {},
   "outputs": [
    {
     "data": {
      "text/plain": [
       "[[2], [0], [1, 3], [0, 7], [9, 11], [13, 15, 17]]"
      ]
     },
     "execution_count": 35,
     "metadata": {},
     "output_type": "execute_result"
    }
   ],
   "source": [
    "#Example 28. Write a Python program to sort a given list of lists by length and value using lambda.\n",
    "\n",
    "list_1= [[2], [0], [1, 3], [0, 7], [9, 11], [13, 15, 17]]\n",
    "\n",
    "list_1.sort(key = lambda x : len(x))\n",
    "\n",
    "list_1"
   ]
  },
  {
   "cell_type": "code",
   "execution_count": null,
   "id": "09409351",
   "metadata": {},
   "outputs": [],
   "source": []
  },
  {
   "cell_type": "code",
   "execution_count": null,
   "id": "b02941aa",
   "metadata": {},
   "outputs": [],
   "source": []
  },
  {
   "cell_type": "code",
   "execution_count": null,
   "id": "919ff586",
   "metadata": {},
   "outputs": [],
   "source": []
  },
  {
   "cell_type": "code",
   "execution_count": null,
   "id": "d63e8ac2",
   "metadata": {},
   "outputs": [],
   "source": []
  },
  {
   "cell_type": "code",
   "execution_count": null,
   "id": "f3275dc4",
   "metadata": {},
   "outputs": [],
   "source": []
  },
  {
   "cell_type": "code",
   "execution_count": null,
   "id": "6c42f169",
   "metadata": {},
   "outputs": [],
   "source": []
  }
 ],
 "metadata": {
  "kernelspec": {
   "display_name": "Python 3 (ipykernel)",
   "language": "python",
   "name": "python3"
  },
  "language_info": {
   "codemirror_mode": {
    "name": "ipython",
    "version": 3
   },
   "file_extension": ".py",
   "mimetype": "text/x-python",
   "name": "python",
   "nbconvert_exporter": "python",
   "pygments_lexer": "ipython3",
   "version": "3.9.13"
  }
 },
 "nbformat": 4,
 "nbformat_minor": 5
}
